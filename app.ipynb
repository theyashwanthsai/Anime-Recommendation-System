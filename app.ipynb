{
 "cells": [
  {
   "cell_type": "code",
   "execution_count": 1,
   "metadata": {},
   "outputs": [],
   "source": [
    "import numpy as np # linear algebra\n",
    "import pandas as pd # data processing, CSV file I/O (e.g. pd.read_csv)"
   ]
  },
  {
   "cell_type": "code",
   "execution_count": 2,
   "metadata": {},
   "outputs": [],
   "source": [
    "import warnings\n",
    "warnings.filterwarnings('ignore')"
   ]
  },
  {
   "cell_type": "code",
   "execution_count": 6,
   "metadata": {},
   "outputs": [],
   "source": [
    "data_m = pd.read_csv(\"Anime.csv\")\n",
    "# pd.set_option(\"max_columns\", 200)\n",
    "pd.options.display.max_columns = 200"
   ]
  },
  {
   "cell_type": "code",
   "execution_count": 7,
   "metadata": {},
   "outputs": [
    {
     "name": "stdout",
     "output_type": "stream",
     "text": [
      "<class 'pandas.core.frame.DataFrame'>\n",
      "RangeIndex: 18495 entries, 0 to 18494\n",
      "Data columns (total 17 columns):\n",
      " #   Column           Non-Null Count  Dtype  \n",
      "---  ------           --------------  -----  \n",
      " 0   Rank             18495 non-null  int64  \n",
      " 1   Name             18495 non-null  object \n",
      " 2   Japanese_name    7938 non-null   object \n",
      " 3   Type             18495 non-null  object \n",
      " 4   Episodes         9501 non-null   float64\n",
      " 5   Studio           12018 non-null  object \n",
      " 6   Release_season   4116 non-null   object \n",
      " 7   Tags             18095 non-null  object \n",
      " 8   Rating           15364 non-null  float64\n",
      " 9   Release_year     18112 non-null  float64\n",
      " 10  End_year         2854 non-null   float64\n",
      " 11  Description      18491 non-null  object \n",
      " 12  Content_Warning  1840 non-null   object \n",
      " 13  Related_Mange    7627 non-null   object \n",
      " 14  Related_anime    10063 non-null  object \n",
      " 15  Voice_actors     15309 non-null  object \n",
      " 16  staff            13005 non-null  object \n",
      "dtypes: float64(4), int64(1), object(12)\n",
      "memory usage: 2.4+ MB\n"
     ]
    }
   ],
   "source": [
    "data_m.info()"
   ]
  },
  {
   "cell_type": "code",
   "execution_count": 8,
   "metadata": {},
   "outputs": [
    {
     "data": {
      "text/html": [
       "<div>\n",
       "<style scoped>\n",
       "    .dataframe tbody tr th:only-of-type {\n",
       "        vertical-align: middle;\n",
       "    }\n",
       "\n",
       "    .dataframe tbody tr th {\n",
       "        vertical-align: top;\n",
       "    }\n",
       "\n",
       "    .dataframe thead th {\n",
       "        text-align: right;\n",
       "    }\n",
       "</style>\n",
       "<table border=\"1\" class=\"dataframe\">\n",
       "  <thead>\n",
       "    <tr style=\"text-align: right;\">\n",
       "      <th></th>\n",
       "      <th>Rank</th>\n",
       "      <th>Name</th>\n",
       "      <th>Japanese_name</th>\n",
       "      <th>Type</th>\n",
       "      <th>Episodes</th>\n",
       "      <th>Studio</th>\n",
       "      <th>Release_season</th>\n",
       "      <th>Tags</th>\n",
       "      <th>Rating</th>\n",
       "      <th>Release_year</th>\n",
       "      <th>End_year</th>\n",
       "      <th>Description</th>\n",
       "      <th>Content_Warning</th>\n",
       "      <th>Related_Mange</th>\n",
       "      <th>Related_anime</th>\n",
       "      <th>Voice_actors</th>\n",
       "      <th>staff</th>\n",
       "    </tr>\n",
       "  </thead>\n",
       "  <tbody>\n",
       "    <tr>\n",
       "      <th>0</th>\n",
       "      <td>1</td>\n",
       "      <td>Demon Slayer: Kimetsu no Yaiba - Entertainment...</td>\n",
       "      <td>Kimetsu no Yaiba: Yuukaku-hen</td>\n",
       "      <td>TV</td>\n",
       "      <td>NaN</td>\n",
       "      <td>ufotable</td>\n",
       "      <td>Fall</td>\n",
       "      <td>Action, Adventure, Fantasy, Shounen, Demons, H...</td>\n",
       "      <td>4.60</td>\n",
       "      <td>2021.0</td>\n",
       "      <td>NaN</td>\n",
       "      <td>'Tanjiro and his friends accompany the Hashira...</td>\n",
       "      <td>Explicit Violence</td>\n",
       "      <td>Demon Slayer: Kimetsu no Yaiba</td>\n",
       "      <td>Demon Slayer: Kimetsu no Yaiba, Demon Slayer: ...</td>\n",
       "      <td>Inosuke Hashibira : Yoshitsugu Matsuoka, Nezuk...</td>\n",
       "      <td>Koyoharu Gotouge : Original Creator, Haruo Sot...</td>\n",
       "    </tr>\n",
       "    <tr>\n",
       "      <th>1</th>\n",
       "      <td>2</td>\n",
       "      <td>Fruits Basket the Final Season</td>\n",
       "      <td>Fruits Basket the Final</td>\n",
       "      <td>TV</td>\n",
       "      <td>13.0</td>\n",
       "      <td>TMS Entertainment</td>\n",
       "      <td>Spring</td>\n",
       "      <td>Drama, Fantasy, Romance, Shoujo, Animal Transf...</td>\n",
       "      <td>4.60</td>\n",
       "      <td>2021.0</td>\n",
       "      <td>NaN</td>\n",
       "      <td>'The final arc of Fruits Basket.'</td>\n",
       "      <td>Emotional Abuse,, Mature Themes,, Physical Abu...</td>\n",
       "      <td>Fruits Basket, Fruits Basket Another</td>\n",
       "      <td>Fruits Basket 1st Season, Fruits Basket 2nd Se...</td>\n",
       "      <td>Akito Sohma : Maaya Sakamoto, Kyo Sohma : Yuum...</td>\n",
       "      <td>Natsuki Takaya : Original Creator, Yoshihide I...</td>\n",
       "    </tr>\n",
       "    <tr>\n",
       "      <th>2</th>\n",
       "      <td>3</td>\n",
       "      <td>Mo Dao Zu Shi 3</td>\n",
       "      <td>The Founder of Diabolism 3</td>\n",
       "      <td>Web</td>\n",
       "      <td>12.0</td>\n",
       "      <td>B.C MAY PICTURES</td>\n",
       "      <td>NaN</td>\n",
       "      <td>Fantasy, Ancient China, Chinese Animation, Cul...</td>\n",
       "      <td>4.58</td>\n",
       "      <td>2021.0</td>\n",
       "      <td>NaN</td>\n",
       "      <td>'The third season of Mo Dao Zu Shi.'</td>\n",
       "      <td>NaN</td>\n",
       "      <td>Grandmaster of Demonic Cultivation: Mo Dao Zu ...</td>\n",
       "      <td>Mo Dao Zu Shi 2, Mo Dao Zu Shi Q</td>\n",
       "      <td>Lan Wangji, Wei Wuxian, Jiang Cheng, Jin Guang...</td>\n",
       "      <td>Mo Xiang Tong Xiu : Original Creator, Xiong Ke...</td>\n",
       "    </tr>\n",
       "    <tr>\n",
       "      <th>3</th>\n",
       "      <td>4</td>\n",
       "      <td>Fullmetal Alchemist: Brotherhood</td>\n",
       "      <td>Hagane no Renkinjutsushi: Full Metal Alchemist</td>\n",
       "      <td>TV</td>\n",
       "      <td>64.0</td>\n",
       "      <td>Bones</td>\n",
       "      <td>Spring</td>\n",
       "      <td>Action, Adventure, Drama, Fantasy, Mystery, Sh...</td>\n",
       "      <td>4.58</td>\n",
       "      <td>2009.0</td>\n",
       "      <td>2010.0</td>\n",
       "      <td>\"The foundation of alchemy is based on the law...</td>\n",
       "      <td>Animal Abuse,, Mature Themes,, Violence,, Dome...</td>\n",
       "      <td>Fullmetal Alchemist, Fullmetal Alchemist (Ligh...</td>\n",
       "      <td>Fullmetal Alchemist: Brotherhood Specials, Ful...</td>\n",
       "      <td>Alphonse Elric : Rie Kugimiya, Edward Elric : ...</td>\n",
       "      <td>Hiromu Arakawa : Original Creator, Yasuhiro Ir...</td>\n",
       "    </tr>\n",
       "    <tr>\n",
       "      <th>4</th>\n",
       "      <td>5</td>\n",
       "      <td>Attack on Titan 3rd Season: Part II</td>\n",
       "      <td>Shingeki no Kyojin Season 3: Part II</td>\n",
       "      <td>TV</td>\n",
       "      <td>10.0</td>\n",
       "      <td>WIT Studio</td>\n",
       "      <td>Spring</td>\n",
       "      <td>Action, Fantasy, Horror, Shounen, Dark Fantasy...</td>\n",
       "      <td>4.57</td>\n",
       "      <td>2019.0</td>\n",
       "      <td>NaN</td>\n",
       "      <td>'The battle to retake Wall Maria begins now! W...</td>\n",
       "      <td>Cannibalism,, Explicit Violence</td>\n",
       "      <td>Attack on Titan, Attack on Titan: End of the W...</td>\n",
       "      <td>Attack on Titan, Attack on Titan 2nd Season, A...</td>\n",
       "      <td>Armin Arlelt : Marina Inoue, Eren Jaeger : Yuu...</td>\n",
       "      <td>Hajime Isayama : Original Creator, Tetsurou Ar...</td>\n",
       "    </tr>\n",
       "  </tbody>\n",
       "</table>\n",
       "</div>"
      ],
      "text/plain": [
       "   Rank                                               Name  \\\n",
       "0     1  Demon Slayer: Kimetsu no Yaiba - Entertainment...   \n",
       "1     2                     Fruits Basket the Final Season   \n",
       "2     3                                    Mo Dao Zu Shi 3   \n",
       "3     4                   Fullmetal Alchemist: Brotherhood   \n",
       "4     5                Attack on Titan 3rd Season: Part II   \n",
       "\n",
       "                                     Japanese_name   Type  Episodes  \\\n",
       "0                    Kimetsu no Yaiba: Yuukaku-hen  TV          NaN   \n",
       "1                          Fruits Basket the Final  TV         13.0   \n",
       "2                       The Founder of Diabolism 3  Web        12.0   \n",
       "3   Hagane no Renkinjutsushi: Full Metal Alchemist  TV         64.0   \n",
       "4             Shingeki no Kyojin Season 3: Part II  TV         10.0   \n",
       "\n",
       "              Studio Release_season  \\\n",
       "0           ufotable          Fall    \n",
       "1  TMS Entertainment         Spring   \n",
       "2   B.C MAY PICTURES            NaN   \n",
       "3              Bones         Spring   \n",
       "4         WIT Studio         Spring   \n",
       "\n",
       "                                                Tags  Rating  Release_year  \\\n",
       "0  Action, Adventure, Fantasy, Shounen, Demons, H...    4.60        2021.0   \n",
       "1  Drama, Fantasy, Romance, Shoujo, Animal Transf...    4.60        2021.0   \n",
       "2  Fantasy, Ancient China, Chinese Animation, Cul...    4.58        2021.0   \n",
       "3  Action, Adventure, Drama, Fantasy, Mystery, Sh...    4.58        2009.0   \n",
       "4  Action, Fantasy, Horror, Shounen, Dark Fantasy...    4.57        2019.0   \n",
       "\n",
       "   End_year                                        Description  \\\n",
       "0       NaN  'Tanjiro and his friends accompany the Hashira...   \n",
       "1       NaN                  'The final arc of Fruits Basket.'   \n",
       "2       NaN               'The third season of Mo Dao Zu Shi.'   \n",
       "3    2010.0  \"The foundation of alchemy is based on the law...   \n",
       "4       NaN  'The battle to retake Wall Maria begins now! W...   \n",
       "\n",
       "                                     Content_Warning  \\\n",
       "0                                  Explicit Violence   \n",
       "1  Emotional Abuse,, Mature Themes,, Physical Abu...   \n",
       "2                                                NaN   \n",
       "3  Animal Abuse,, Mature Themes,, Violence,, Dome...   \n",
       "4                    Cannibalism,, Explicit Violence   \n",
       "\n",
       "                                       Related_Mange  \\\n",
       "0                     Demon Slayer: Kimetsu no Yaiba   \n",
       "1               Fruits Basket, Fruits Basket Another   \n",
       "2  Grandmaster of Demonic Cultivation: Mo Dao Zu ...   \n",
       "3  Fullmetal Alchemist, Fullmetal Alchemist (Ligh...   \n",
       "4  Attack on Titan, Attack on Titan: End of the W...   \n",
       "\n",
       "                                       Related_anime  \\\n",
       "0  Demon Slayer: Kimetsu no Yaiba, Demon Slayer: ...   \n",
       "1  Fruits Basket 1st Season, Fruits Basket 2nd Se...   \n",
       "2                   Mo Dao Zu Shi 2, Mo Dao Zu Shi Q   \n",
       "3  Fullmetal Alchemist: Brotherhood Specials, Ful...   \n",
       "4  Attack on Titan, Attack on Titan 2nd Season, A...   \n",
       "\n",
       "                                        Voice_actors  \\\n",
       "0  Inosuke Hashibira : Yoshitsugu Matsuoka, Nezuk...   \n",
       "1  Akito Sohma : Maaya Sakamoto, Kyo Sohma : Yuum...   \n",
       "2  Lan Wangji, Wei Wuxian, Jiang Cheng, Jin Guang...   \n",
       "3  Alphonse Elric : Rie Kugimiya, Edward Elric : ...   \n",
       "4  Armin Arlelt : Marina Inoue, Eren Jaeger : Yuu...   \n",
       "\n",
       "                                               staff  \n",
       "0  Koyoharu Gotouge : Original Creator, Haruo Sot...  \n",
       "1  Natsuki Takaya : Original Creator, Yoshihide I...  \n",
       "2  Mo Xiang Tong Xiu : Original Creator, Xiong Ke...  \n",
       "3  Hiromu Arakawa : Original Creator, Yasuhiro Ir...  \n",
       "4  Hajime Isayama : Original Creator, Tetsurou Ar...  "
      ]
     },
     "execution_count": 8,
     "metadata": {},
     "output_type": "execute_result"
    }
   ],
   "source": [
    "data_m.head()"
   ]
  },
  {
   "cell_type": "code",
   "execution_count": 9,
   "metadata": {},
   "outputs": [
    {
     "data": {
      "text/html": [
       "<div>\n",
       "<style scoped>\n",
       "    .dataframe tbody tr th:only-of-type {\n",
       "        vertical-align: middle;\n",
       "    }\n",
       "\n",
       "    .dataframe tbody tr th {\n",
       "        vertical-align: top;\n",
       "    }\n",
       "\n",
       "    .dataframe thead th {\n",
       "        text-align: right;\n",
       "    }\n",
       "</style>\n",
       "<table border=\"1\" class=\"dataframe\">\n",
       "  <thead>\n",
       "    <tr style=\"text-align: right;\">\n",
       "      <th></th>\n",
       "      <th>Rank</th>\n",
       "      <th>Name</th>\n",
       "      <th>Japanese_name</th>\n",
       "      <th>Type</th>\n",
       "      <th>Episodes</th>\n",
       "      <th>Studio</th>\n",
       "      <th>Release_season</th>\n",
       "      <th>Tags</th>\n",
       "      <th>Rating</th>\n",
       "      <th>Release_year</th>\n",
       "      <th>End_year</th>\n",
       "      <th>Description</th>\n",
       "      <th>Content_Warning</th>\n",
       "      <th>Related_Mange</th>\n",
       "      <th>Related_anime</th>\n",
       "      <th>Voice_actors</th>\n",
       "      <th>staff</th>\n",
       "    </tr>\n",
       "  </thead>\n",
       "  <tbody>\n",
       "    <tr>\n",
       "      <th>18490</th>\n",
       "      <td>18491</td>\n",
       "      <td>Qin Shi Mingyue: Canghai Hengliu Xiaomeng Spec...</td>\n",
       "      <td>NaN</td>\n",
       "      <td>Web</td>\n",
       "      <td>2.0</td>\n",
       "      <td>Sparkly Key Animation Studio</td>\n",
       "      <td>NaN</td>\n",
       "      <td>Action, Ancient China, Chinese Animation, Hist...</td>\n",
       "      <td>NaN</td>\n",
       "      <td>2020.0</td>\n",
       "      <td>NaN</td>\n",
       "      <td>Special episodes of Qin Shi Mingyue: Canghai H...</td>\n",
       "      <td>NaN</td>\n",
       "      <td>NaN</td>\n",
       "      <td>Qin Shi Mingyue: Canghai Hengliu</td>\n",
       "      <td>NaN</td>\n",
       "      <td>NaN</td>\n",
       "    </tr>\n",
       "    <tr>\n",
       "      <th>18491</th>\n",
       "      <td>18492</td>\n",
       "      <td>Yi Tang Juchang: Sanguo Yanyi</td>\n",
       "      <td>NaN</td>\n",
       "      <td>TV</td>\n",
       "      <td>108.0</td>\n",
       "      <td>NaN</td>\n",
       "      <td>NaN</td>\n",
       "      <td>Chinese Animation</td>\n",
       "      <td>NaN</td>\n",
       "      <td>2010.0</td>\n",
       "      <td>NaN</td>\n",
       "      <td>No synopsis yet - check back soon!</td>\n",
       "      <td>NaN</td>\n",
       "      <td>NaN</td>\n",
       "      <td>NaN</td>\n",
       "      <td>NaN</td>\n",
       "      <td>NaN</td>\n",
       "    </tr>\n",
       "    <tr>\n",
       "      <th>18492</th>\n",
       "      <td>18493</td>\n",
       "      <td>Fenghuang Ji Xiang Yu Qingming Shanghe Tu</td>\n",
       "      <td>NaN</td>\n",
       "      <td>TV</td>\n",
       "      <td>13.0</td>\n",
       "      <td>NaN</td>\n",
       "      <td>NaN</td>\n",
       "      <td>Chinese Animation, Family Friendly, Short Epis...</td>\n",
       "      <td>NaN</td>\n",
       "      <td>2020.0</td>\n",
       "      <td>NaN</td>\n",
       "      <td>No synopsis yet - check back soon!</td>\n",
       "      <td>NaN</td>\n",
       "      <td>NaN</td>\n",
       "      <td>NaN</td>\n",
       "      <td>NaN</td>\n",
       "      <td>NaN</td>\n",
       "    </tr>\n",
       "    <tr>\n",
       "      <th>18493</th>\n",
       "      <td>18494</td>\n",
       "      <td>Chengshi Jiyi Wo Men de Jieri</td>\n",
       "      <td>NaN</td>\n",
       "      <td>TV</td>\n",
       "      <td>NaN</td>\n",
       "      <td>NaN</td>\n",
       "      <td>NaN</td>\n",
       "      <td>Chinese Animation, Family Friendly, Short Epis...</td>\n",
       "      <td>NaN</td>\n",
       "      <td>2020.0</td>\n",
       "      <td>NaN</td>\n",
       "      <td>No synopsis yet - check back soon!</td>\n",
       "      <td>NaN</td>\n",
       "      <td>NaN</td>\n",
       "      <td>NaN</td>\n",
       "      <td>NaN</td>\n",
       "      <td>NaN</td>\n",
       "    </tr>\n",
       "    <tr>\n",
       "      <th>18494</th>\n",
       "      <td>18495</td>\n",
       "      <td>Heisei Inu Monogatari Bow: Genshi Inu Monogata...</td>\n",
       "      <td>NaN</td>\n",
       "      <td>Movie</td>\n",
       "      <td>NaN</td>\n",
       "      <td>Nippon Animation</td>\n",
       "      <td>NaN</td>\n",
       "      <td>Comedy, Slice of Life, Dogs</td>\n",
       "      <td>NaN</td>\n",
       "      <td>1994.0</td>\n",
       "      <td>NaN</td>\n",
       "      <td>No synopsis yet - check back soon!</td>\n",
       "      <td>NaN</td>\n",
       "      <td>NaN</td>\n",
       "      <td>Heisei Inu Monogatari Bow</td>\n",
       "      <td>NaN</td>\n",
       "      <td>NaN</td>\n",
       "    </tr>\n",
       "  </tbody>\n",
       "</table>\n",
       "</div>"
      ],
      "text/plain": [
       "        Rank                                               Name Japanese_name  \\\n",
       "18490  18491  Qin Shi Mingyue: Canghai Hengliu Xiaomeng Spec...           NaN   \n",
       "18491  18492                      Yi Tang Juchang: Sanguo Yanyi           NaN   \n",
       "18492  18493          Fenghuang Ji Xiang Yu Qingming Shanghe Tu           NaN   \n",
       "18493  18494                      Chengshi Jiyi Wo Men de Jieri           NaN   \n",
       "18494  18495  Heisei Inu Monogatari Bow: Genshi Inu Monogata...           NaN   \n",
       "\n",
       "        Type  Episodes                        Studio Release_season  \\\n",
       "18490  Web         2.0  Sparkly Key Animation Studio            NaN   \n",
       "18491  TV        108.0                           NaN            NaN   \n",
       "18492  TV         13.0                           NaN            NaN   \n",
       "18493  TV          NaN                           NaN            NaN   \n",
       "18494  Movie       NaN              Nippon Animation            NaN   \n",
       "\n",
       "                                                    Tags  Rating  \\\n",
       "18490  Action, Ancient China, Chinese Animation, Hist...     NaN   \n",
       "18491                                  Chinese Animation     NaN   \n",
       "18492  Chinese Animation, Family Friendly, Short Epis...     NaN   \n",
       "18493  Chinese Animation, Family Friendly, Short Epis...     NaN   \n",
       "18494                        Comedy, Slice of Life, Dogs     NaN   \n",
       "\n",
       "       Release_year  End_year  \\\n",
       "18490        2020.0       NaN   \n",
       "18491        2010.0       NaN   \n",
       "18492        2020.0       NaN   \n",
       "18493        2020.0       NaN   \n",
       "18494        1994.0       NaN   \n",
       "\n",
       "                                             Description Content_Warning  \\\n",
       "18490  Special episodes of Qin Shi Mingyue: Canghai H...             NaN   \n",
       "18491                 No synopsis yet - check back soon!             NaN   \n",
       "18492                 No synopsis yet - check back soon!             NaN   \n",
       "18493                 No synopsis yet - check back soon!             NaN   \n",
       "18494                 No synopsis yet - check back soon!             NaN   \n",
       "\n",
       "      Related_Mange                     Related_anime Voice_actors staff  \n",
       "18490           NaN  Qin Shi Mingyue: Canghai Hengliu          NaN   NaN  \n",
       "18491           NaN                               NaN          NaN   NaN  \n",
       "18492           NaN                               NaN          NaN   NaN  \n",
       "18493           NaN                               NaN          NaN   NaN  \n",
       "18494           NaN         Heisei Inu Monogatari Bow          NaN   NaN  "
      ]
     },
     "execution_count": 9,
     "metadata": {},
     "output_type": "execute_result"
    }
   ],
   "source": [
    "data_m.tail()"
   ]
  },
  {
   "cell_type": "code",
   "execution_count": 10,
   "metadata": {},
   "outputs": [
    {
     "data": {
      "text/plain": [
       "'Fantasy, Ancient China, Chinese Animation, Cultivation, Xianxia, Based on a Web Novel'"
      ]
     },
     "execution_count": 10,
     "metadata": {},
     "output_type": "execute_result"
    }
   ],
   "source": [
    "data_m[\"Tags\"][2]"
   ]
  },
  {
   "cell_type": "code",
   "execution_count": 11,
   "metadata": {},
   "outputs": [
    {
     "data": {
      "text/plain": [
       "\"'The third season of Mo Dao Zu Shi.'\""
      ]
     },
     "execution_count": 11,
     "metadata": {},
     "output_type": "execute_result"
    }
   ],
   "source": [
    "data_m[\"Description\"][2]"
   ]
  },
  {
   "cell_type": "code",
   "execution_count": 12,
   "metadata": {},
   "outputs": [
    {
     "data": {
      "text/plain": [
       "nan"
      ]
     },
     "execution_count": 12,
     "metadata": {},
     "output_type": "execute_result"
    }
   ],
   "source": [
    "data_m[\"Content_Warning\"][2]"
   ]
  },
  {
   "cell_type": "code",
   "execution_count": 13,
   "metadata": {},
   "outputs": [
    {
     "data": {
      "text/plain": [
       "'Grandmaster of Demonic Cultivation: Mo Dao Zu Shi (Novel), The Master of Diabolism'"
      ]
     },
     "execution_count": 13,
     "metadata": {},
     "output_type": "execute_result"
    }
   ],
   "source": [
    "data_m[\"Related_Mange\"][2]"
   ]
  },
  {
   "cell_type": "code",
   "execution_count": 14,
   "metadata": {},
   "outputs": [
    {
     "data": {
      "text/plain": [
       "'Koyoharu Gotouge : Original Creator, Haruo Sotozaki : Director, Akira Matsushima : Character Design, Aimer : Song Performance'"
      ]
     },
     "execution_count": 14,
     "metadata": {},
     "output_type": "execute_result"
    }
   ],
   "source": [
    "data_m[\"staff\"][0]"
   ]
  },
  {
   "cell_type": "code",
   "execution_count": 15,
   "metadata": {},
   "outputs": [],
   "source": [
    "#### The features required\n",
    "# Data for ml algo\n",
    "# Rank\n",
    "# Name\n",
    "# Type\n",
    "# Tags\n",
    "# Description\n",
    "# Staff \"Get Original Creator\""
   ]
  },
  {
   "cell_type": "code",
   "execution_count": 16,
   "metadata": {},
   "outputs": [],
   "source": [
    "data_m = data_m[[\"Rank\", \"Name\", \"Type\", \"Tags\", \"Description\", \"staff\"]]"
   ]
  },
  {
   "cell_type": "code",
   "execution_count": 18,
   "metadata": {},
   "outputs": [
    {
     "data": {
      "text/plain": [
       "0"
      ]
     },
     "execution_count": 18,
     "metadata": {},
     "output_type": "execute_result"
    }
   ],
   "source": [
    "data_m.duplicated().sum()"
   ]
  },
  {
   "cell_type": "code",
   "execution_count": 19,
   "metadata": {},
   "outputs": [
    {
     "data": {
      "text/plain": [
       "Rank              0\n",
       "Name              0\n",
       "Type              0\n",
       "Tags            400\n",
       "Description       4\n",
       "staff          5490\n",
       "dtype: int64"
      ]
     },
     "execution_count": 19,
     "metadata": {},
     "output_type": "execute_result"
    }
   ],
   "source": [
    "data_m.isnull().sum()"
   ]
  },
  {
   "cell_type": "code",
   "execution_count": 20,
   "metadata": {},
   "outputs": [
    {
     "data": {
      "text/html": [
       "<div>\n",
       "<style scoped>\n",
       "    .dataframe tbody tr th:only-of-type {\n",
       "        vertical-align: middle;\n",
       "    }\n",
       "\n",
       "    .dataframe tbody tr th {\n",
       "        vertical-align: top;\n",
       "    }\n",
       "\n",
       "    .dataframe thead th {\n",
       "        text-align: right;\n",
       "    }\n",
       "</style>\n",
       "<table border=\"1\" class=\"dataframe\">\n",
       "  <thead>\n",
       "    <tr style=\"text-align: right;\">\n",
       "      <th></th>\n",
       "      <th>Rank</th>\n",
       "      <th>Name</th>\n",
       "      <th>Type</th>\n",
       "      <th>Tags</th>\n",
       "      <th>Description</th>\n",
       "      <th>staff</th>\n",
       "    </tr>\n",
       "  </thead>\n",
       "  <tbody>\n",
       "    <tr>\n",
       "      <th>0</th>\n",
       "      <td>1</td>\n",
       "      <td>Demon Slayer: Kimetsu no Yaiba - Entertainment...</td>\n",
       "      <td>TV</td>\n",
       "      <td>Action, Adventure, Fantasy, Shounen, Demons, H...</td>\n",
       "      <td>'Tanjiro and his friends accompany the Hashira...</td>\n",
       "      <td>Koyoharu Gotouge : Original Creator, Haruo Sot...</td>\n",
       "    </tr>\n",
       "    <tr>\n",
       "      <th>1</th>\n",
       "      <td>2</td>\n",
       "      <td>Fruits Basket the Final Season</td>\n",
       "      <td>TV</td>\n",
       "      <td>Drama, Fantasy, Romance, Shoujo, Animal Transf...</td>\n",
       "      <td>'The final arc of Fruits Basket.'</td>\n",
       "      <td>Natsuki Takaya : Original Creator, Yoshihide I...</td>\n",
       "    </tr>\n",
       "    <tr>\n",
       "      <th>3</th>\n",
       "      <td>4</td>\n",
       "      <td>Fullmetal Alchemist: Brotherhood</td>\n",
       "      <td>TV</td>\n",
       "      <td>Action, Adventure, Drama, Fantasy, Mystery, Sh...</td>\n",
       "      <td>\"The foundation of alchemy is based on the law...</td>\n",
       "      <td>Hiromu Arakawa : Original Creator, Yasuhiro Ir...</td>\n",
       "    </tr>\n",
       "    <tr>\n",
       "      <th>4</th>\n",
       "      <td>5</td>\n",
       "      <td>Attack on Titan 3rd Season: Part II</td>\n",
       "      <td>TV</td>\n",
       "      <td>Action, Fantasy, Horror, Shounen, Dark Fantasy...</td>\n",
       "      <td>'The battle to retake Wall Maria begins now! W...</td>\n",
       "      <td>Hajime Isayama : Original Creator, Tetsurou Ar...</td>\n",
       "    </tr>\n",
       "    <tr>\n",
       "      <th>5</th>\n",
       "      <td>6</td>\n",
       "      <td>Jujutsu Kaisen</td>\n",
       "      <td>TV</td>\n",
       "      <td>Action, Horror, Shounen, Curse, Exorcists, Mon...</td>\n",
       "      <td>'Although Yuji Itadori looks like your average...</td>\n",
       "      <td>Gege Akutami : Original Creator, Seong-Hu Park...</td>\n",
       "    </tr>\n",
       "    <tr>\n",
       "      <th>...</th>\n",
       "      <td>...</td>\n",
       "      <td>...</td>\n",
       "      <td>...</td>\n",
       "      <td>...</td>\n",
       "      <td>...</td>\n",
       "      <td>...</td>\n",
       "    </tr>\n",
       "    <tr>\n",
       "      <th>18481</th>\n",
       "      <td>18482</td>\n",
       "      <td>Goblin Slayer 2</td>\n",
       "      <td>TV</td>\n",
       "      <td>Action, Adventure, Fantasy, Seinen, Dark Fanta...</td>\n",
       "      <td>It's fall, and the village's harvest festival ...</td>\n",
       "      <td>Kumo Kagyu : Original Creator</td>\n",
       "    </tr>\n",
       "    <tr>\n",
       "      <th>18488</th>\n",
       "      <td>18489</td>\n",
       "      <td>Shachiku-san wa Youjo Yuurei ni Iyasaretai.</td>\n",
       "      <td>TV</td>\n",
       "      <td>Comedy, Slice of Life, Ghosts, Iyashikei, Non-...</td>\n",
       "      <td>The story follows the daily life of Fushihara,...</td>\n",
       "      <td>Imari Arita : Original Creator</td>\n",
       "    </tr>\n",
       "    <tr>\n",
       "      <th>18491</th>\n",
       "      <td>18492</td>\n",
       "      <td>Yi Tang Juchang: Sanguo Yanyi</td>\n",
       "      <td>TV</td>\n",
       "      <td>Chinese Animation</td>\n",
       "      <td>No synopsis yet - check back soon!</td>\n",
       "      <td>NaN</td>\n",
       "    </tr>\n",
       "    <tr>\n",
       "      <th>18492</th>\n",
       "      <td>18493</td>\n",
       "      <td>Fenghuang Ji Xiang Yu Qingming Shanghe Tu</td>\n",
       "      <td>TV</td>\n",
       "      <td>Chinese Animation, Family Friendly, Short Epis...</td>\n",
       "      <td>No synopsis yet - check back soon!</td>\n",
       "      <td>NaN</td>\n",
       "    </tr>\n",
       "    <tr>\n",
       "      <th>18493</th>\n",
       "      <td>18494</td>\n",
       "      <td>Chengshi Jiyi Wo Men de Jieri</td>\n",
       "      <td>TV</td>\n",
       "      <td>Chinese Animation, Family Friendly, Short Epis...</td>\n",
       "      <td>No synopsis yet - check back soon!</td>\n",
       "      <td>NaN</td>\n",
       "    </tr>\n",
       "  </tbody>\n",
       "</table>\n",
       "<p>5446 rows × 6 columns</p>\n",
       "</div>"
      ],
      "text/plain": [
       "        Rank                                               Name   Type  \\\n",
       "0          1  Demon Slayer: Kimetsu no Yaiba - Entertainment...  TV      \n",
       "1          2                     Fruits Basket the Final Season  TV      \n",
       "3          4                   Fullmetal Alchemist: Brotherhood  TV      \n",
       "4          5                Attack on Titan 3rd Season: Part II  TV      \n",
       "5          6                                     Jujutsu Kaisen  TV      \n",
       "...      ...                                                ...    ...   \n",
       "18481  18482                                    Goblin Slayer 2  TV      \n",
       "18488  18489        Shachiku-san wa Youjo Yuurei ni Iyasaretai.  TV      \n",
       "18491  18492                      Yi Tang Juchang: Sanguo Yanyi  TV      \n",
       "18492  18493          Fenghuang Ji Xiang Yu Qingming Shanghe Tu  TV      \n",
       "18493  18494                      Chengshi Jiyi Wo Men de Jieri  TV      \n",
       "\n",
       "                                                    Tags  \\\n",
       "0      Action, Adventure, Fantasy, Shounen, Demons, H...   \n",
       "1      Drama, Fantasy, Romance, Shoujo, Animal Transf...   \n",
       "3      Action, Adventure, Drama, Fantasy, Mystery, Sh...   \n",
       "4      Action, Fantasy, Horror, Shounen, Dark Fantasy...   \n",
       "5      Action, Horror, Shounen, Curse, Exorcists, Mon...   \n",
       "...                                                  ...   \n",
       "18481  Action, Adventure, Fantasy, Seinen, Dark Fanta...   \n",
       "18488  Comedy, Slice of Life, Ghosts, Iyashikei, Non-...   \n",
       "18491                                  Chinese Animation   \n",
       "18492  Chinese Animation, Family Friendly, Short Epis...   \n",
       "18493  Chinese Animation, Family Friendly, Short Epis...   \n",
       "\n",
       "                                             Description  \\\n",
       "0      'Tanjiro and his friends accompany the Hashira...   \n",
       "1                      'The final arc of Fruits Basket.'   \n",
       "3      \"The foundation of alchemy is based on the law...   \n",
       "4      'The battle to retake Wall Maria begins now! W...   \n",
       "5      'Although Yuji Itadori looks like your average...   \n",
       "...                                                  ...   \n",
       "18481  It's fall, and the village's harvest festival ...   \n",
       "18488  The story follows the daily life of Fushihara,...   \n",
       "18491                 No synopsis yet - check back soon!   \n",
       "18492                 No synopsis yet - check back soon!   \n",
       "18493                 No synopsis yet - check back soon!   \n",
       "\n",
       "                                                   staff  \n",
       "0      Koyoharu Gotouge : Original Creator, Haruo Sot...  \n",
       "1      Natsuki Takaya : Original Creator, Yoshihide I...  \n",
       "3      Hiromu Arakawa : Original Creator, Yasuhiro Ir...  \n",
       "4      Hajime Isayama : Original Creator, Tetsurou Ar...  \n",
       "5      Gege Akutami : Original Creator, Seong-Hu Park...  \n",
       "...                                                  ...  \n",
       "18481                      Kumo Kagyu : Original Creator  \n",
       "18488                     Imari Arita : Original Creator  \n",
       "18491                                                NaN  \n",
       "18492                                                NaN  \n",
       "18493                                                NaN  \n",
       "\n",
       "[5446 rows x 6 columns]"
      ]
     },
     "execution_count": 20,
     "metadata": {},
     "output_type": "execute_result"
    }
   ],
   "source": [
    "data_m[data_m[\"Type\"] == \"TV   \"]"
   ]
  },
  {
   "cell_type": "code",
   "execution_count": 25,
   "metadata": {},
   "outputs": [
    {
     "data": {
      "text/html": [
       "<div>\n",
       "<style scoped>\n",
       "    .dataframe tbody tr th:only-of-type {\n",
       "        vertical-align: middle;\n",
       "    }\n",
       "\n",
       "    .dataframe tbody tr th {\n",
       "        vertical-align: top;\n",
       "    }\n",
       "\n",
       "    .dataframe thead th {\n",
       "        text-align: right;\n",
       "    }\n",
       "</style>\n",
       "<table border=\"1\" class=\"dataframe\">\n",
       "  <thead>\n",
       "    <tr style=\"text-align: right;\">\n",
       "      <th></th>\n",
       "      <th>Rank</th>\n",
       "      <th>Name</th>\n",
       "      <th>Type</th>\n",
       "      <th>Tags</th>\n",
       "      <th>Description</th>\n",
       "      <th>staff</th>\n",
       "    </tr>\n",
       "  </thead>\n",
       "  <tbody>\n",
       "  </tbody>\n",
       "</table>\n",
       "</div>"
      ],
      "text/plain": [
       "Empty DataFrame\n",
       "Columns: [Rank, Name, Type, Tags, Description, staff]\n",
       "Index: []"
      ]
     },
     "execution_count": 25,
     "metadata": {},
     "output_type": "execute_result"
    }
   ],
   "source": [
    "temp = data_m[\"Type\"].apply(lambda x: [\" \".join(x.split()) for i in x])\n",
    "def type_(input):\n",
    "    L = []\n",
    "    for i in input:\n",
    "        L.append(i[0])\n",
    "    return L\n",
    "data_m[\"Type\"]= pd.Series(type_(temp))\n",
    "data_m[data_m[\"Type\"] == \"TV   \"]\n",
    "# unnecessary space are removed"
   ]
  },
  {
   "cell_type": "code",
   "execution_count": 26,
   "metadata": {},
   "outputs": [],
   "source": [
    "filtering_1 = data_m[ (data_m[\"Description\"] == \"'No synopsis yet - check back soon!'\") & (data_m[\"Tags\"].isnull())].index\n",
    "data_m = data_m.drop(filtering_1)"
   ]
  },
  {
   "cell_type": "code",
   "execution_count": 27,
   "metadata": {},
   "outputs": [
    {
     "data": {
      "text/plain": [
       "Rank              0\n",
       "Name              0\n",
       "Type              0\n",
       "Tags            267\n",
       "Description       4\n",
       "staff          5451\n",
       "dtype: int64"
      ]
     },
     "execution_count": 27,
     "metadata": {},
     "output_type": "execute_result"
    }
   ],
   "source": [
    "data_m.isnull().sum()"
   ]
  },
  {
   "cell_type": "code",
   "execution_count": 28,
   "metadata": {},
   "outputs": [],
   "source": [
    "filtering_2 = data_m[ (data_m[\"Type\"] == \"Music\") | (data_m[\"Type\"] == \"OVA\") | (data_m[\"Type\"] == \"TV Sp\")].index\n",
    "data_m.drop(filtering_2,inplace = True)\n",
    "# Let us drop the observations which are of type Music, OVA , TV Sp. Since they are mostly a filler anime"
   ]
  },
  {
   "cell_type": "code",
   "execution_count": 29,
   "metadata": {},
   "outputs": [],
   "source": [
    "filtering_3 = data_m[ (data_m[\"Description\"] == \"No synopsis yet - check back soon!\") & (data_m[\"Tags\"].isnull())].index\n",
    "data_m.drop(filtering_3,inplace=True)"
   ]
  },
  {
   "cell_type": "code",
   "execution_count": 30,
   "metadata": {},
   "outputs": [
    {
     "data": {
      "text/plain": [
       "Rank              0\n",
       "Name              0\n",
       "Type              0\n",
       "Tags              4\n",
       "Description       4\n",
       "staff          4301\n",
       "dtype: int64"
      ]
     },
     "execution_count": 30,
     "metadata": {},
     "output_type": "execute_result"
    }
   ],
   "source": [
    "data_m.isnull().sum()"
   ]
  },
  {
   "cell_type": "code",
   "execution_count": 31,
   "metadata": {},
   "outputs": [
    {
     "data": {
      "text/html": [
       "<div>\n",
       "<style scoped>\n",
       "    .dataframe tbody tr th:only-of-type {\n",
       "        vertical-align: middle;\n",
       "    }\n",
       "\n",
       "    .dataframe tbody tr th {\n",
       "        vertical-align: top;\n",
       "    }\n",
       "\n",
       "    .dataframe thead th {\n",
       "        text-align: right;\n",
       "    }\n",
       "</style>\n",
       "<table border=\"1\" class=\"dataframe\">\n",
       "  <thead>\n",
       "    <tr style=\"text-align: right;\">\n",
       "      <th></th>\n",
       "      <th>Rank</th>\n",
       "      <th>Name</th>\n",
       "      <th>Type</th>\n",
       "      <th>Tags</th>\n",
       "      <th>Description</th>\n",
       "      <th>staff</th>\n",
       "    </tr>\n",
       "  </thead>\n",
       "  <tbody>\n",
       "    <tr>\n",
       "      <th>7910</th>\n",
       "      <td>7911</td>\n",
       "      <td>Himitsu no Akko-chan Movie</td>\n",
       "      <td>Movie</td>\n",
       "      <td>NaN</td>\n",
       "      <td>\"Taisho's father plans to construct an apartme...</td>\n",
       "      <td>Fujio Akatsuka : Original Creator, Hiroki Shib...</td>\n",
       "    </tr>\n",
       "    <tr>\n",
       "      <th>8325</th>\n",
       "      <td>8326</td>\n",
       "      <td>Himitsu no Akko-chan: Umi da! Obake da!! Natsu...</td>\n",
       "      <td>Movie</td>\n",
       "      <td>NaN</td>\n",
       "      <td>\"Akko spends a summer with her friends at her ...</td>\n",
       "      <td>Fujio Akatsuka : Original Creator, Hiroki Shib...</td>\n",
       "    </tr>\n",
       "    <tr>\n",
       "      <th>8341</th>\n",
       "      <td>8342</td>\n",
       "      <td>Nanaka 6/17: Ojamana Nanaka</td>\n",
       "      <td>DVD S</td>\n",
       "      <td>NaN</td>\n",
       "      <td>'Unaired episode included in the DVD release o...</td>\n",
       "      <td>NaN</td>\n",
       "    </tr>\n",
       "    <tr>\n",
       "      <th>10185</th>\n",
       "      <td>10186</td>\n",
       "      <td>Tobe! Kujira no Peek</td>\n",
       "      <td>Movie</td>\n",
       "      <td>NaN</td>\n",
       "      <td>'The story of an albino whale used in a circus...</td>\n",
       "      <td>Kouji Morimoto : Director, Satoru Utsunomiya :...</td>\n",
       "    </tr>\n",
       "  </tbody>\n",
       "</table>\n",
       "</div>"
      ],
      "text/plain": [
       "        Rank                                               Name   Type Tags  \\\n",
       "7910    7911                         Himitsu no Akko-chan Movie  Movie  NaN   \n",
       "8325    8326  Himitsu no Akko-chan: Umi da! Obake da!! Natsu...  Movie  NaN   \n",
       "8341    8342                        Nanaka 6/17: Ojamana Nanaka  DVD S  NaN   \n",
       "10185  10186                               Tobe! Kujira no Peek  Movie  NaN   \n",
       "\n",
       "                                             Description  \\\n",
       "7910   \"Taisho's father plans to construct an apartme...   \n",
       "8325   \"Akko spends a summer with her friends at her ...   \n",
       "8341   'Unaired episode included in the DVD release o...   \n",
       "10185  'The story of an albino whale used in a circus...   \n",
       "\n",
       "                                                   staff  \n",
       "7910   Fujio Akatsuka : Original Creator, Hiroki Shib...  \n",
       "8325   Fujio Akatsuka : Original Creator, Hiroki Shib...  \n",
       "8341                                                 NaN  \n",
       "10185  Kouji Morimoto : Director, Satoru Utsunomiya :...  "
      ]
     },
     "execution_count": 31,
     "metadata": {},
     "output_type": "execute_result"
    }
   ],
   "source": [
    "data_m[data_m[\"Tags\"].isnull()]"
   ]
  },
  {
   "cell_type": "code",
   "execution_count": 32,
   "metadata": {},
   "outputs": [],
   "source": [
    "filtering_4 = data_m[data_m[\"Tags\"].isnull()].index\n",
    "data_m.drop(filtering_4,inplace=True)"
   ]
  },
  {
   "cell_type": "code",
   "execution_count": 33,
   "metadata": {},
   "outputs": [
    {
     "data": {
      "text/plain": [
       "Rank              0\n",
       "Name              0\n",
       "Type              0\n",
       "Tags              0\n",
       "Description       4\n",
       "staff          4300\n",
       "dtype: int64"
      ]
     },
     "execution_count": 33,
     "metadata": {},
     "output_type": "execute_result"
    }
   ],
   "source": [
    "data_m.isnull().sum()"
   ]
  },
  {
   "cell_type": "code",
   "execution_count": 34,
   "metadata": {},
   "outputs": [
    {
     "name": "stdout",
     "output_type": "stream",
     "text": [
      "<class 'pandas.core.frame.DataFrame'>\n",
      "Int64Index: 13356 entries, 0 to 18494\n",
      "Data columns (total 6 columns):\n",
      " #   Column       Non-Null Count  Dtype \n",
      "---  ------       --------------  ----- \n",
      " 0   Rank         13356 non-null  int64 \n",
      " 1   Name         13356 non-null  object\n",
      " 2   Type         13356 non-null  object\n",
      " 3   Tags         13356 non-null  object\n",
      " 4   Description  13352 non-null  object\n",
      " 5   staff        9056 non-null   object\n",
      "dtypes: int64(1), object(5)\n",
      "memory usage: 730.4+ KB\n"
     ]
    }
   ],
   "source": [
    "data_m.info()"
   ]
  },
  {
   "cell_type": "code",
   "execution_count": 35,
   "metadata": {},
   "outputs": [],
   "source": [
    "data_m.drop(\"Description\", axis=1, inplace=True)"
   ]
  },
  {
   "cell_type": "code",
   "execution_count": 36,
   "metadata": {},
   "outputs": [
    {
     "name": "stdout",
     "output_type": "stream",
     "text": [
      "<class 'pandas.core.frame.DataFrame'>\n",
      "Int64Index: 13356 entries, 0 to 18494\n",
      "Data columns (total 5 columns):\n",
      " #   Column  Non-Null Count  Dtype \n",
      "---  ------  --------------  ----- \n",
      " 0   Rank    13356 non-null  int64 \n",
      " 1   Name    13356 non-null  object\n",
      " 2   Type    13356 non-null  object\n",
      " 3   Tags    13356 non-null  object\n",
      " 4   staff   9056 non-null   object\n",
      "dtypes: int64(1), object(4)\n",
      "memory usage: 626.1+ KB\n"
     ]
    }
   ],
   "source": [
    "data_m.info()"
   ]
  },
  {
   "cell_type": "code",
   "execution_count": 37,
   "metadata": {},
   "outputs": [
    {
     "data": {
      "text/plain": [
       "4300"
      ]
     },
     "execution_count": 37,
     "metadata": {},
     "output_type": "execute_result"
    }
   ],
   "source": [
    "data_m[\"staff\"].isna().sum()"
   ]
  },
  {
   "cell_type": "code",
   "execution_count": 39,
   "metadata": {},
   "outputs": [],
   "source": [
    "data_m_mini = data_m[data_m[\"staff\"].notnull()]"
   ]
  },
  {
   "cell_type": "code",
   "execution_count": 40,
   "metadata": {},
   "outputs": [
    {
     "name": "stdout",
     "output_type": "stream",
     "text": [
      "<class 'pandas.core.frame.DataFrame'>\n",
      "Int64Index: 9056 entries, 0 to 18489\n",
      "Data columns (total 5 columns):\n",
      " #   Column  Non-Null Count  Dtype \n",
      "---  ------  --------------  ----- \n",
      " 0   Rank    9056 non-null   int64 \n",
      " 1   Name    9056 non-null   object\n",
      " 2   Type    9056 non-null   object\n",
      " 3   Tags    9056 non-null   object\n",
      " 4   staff   9056 non-null   object\n",
      "dtypes: int64(1), object(4)\n",
      "memory usage: 424.5+ KB\n"
     ]
    }
   ],
   "source": [
    "data_m_mini.info()"
   ]
  },
  {
   "cell_type": "code",
   "execution_count": 41,
   "metadata": {},
   "outputs": [
    {
     "data": {
      "text/plain": [
       "'Koyoharu Gotouge : Original Creator, Haruo Sotozaki : Director, Akira Matsushima : Character Design, Aimer : Song Performance'"
      ]
     },
     "execution_count": 41,
     "metadata": {},
     "output_type": "execute_result"
    }
   ],
   "source": [
    "data_m_mini[\"staff\"][0]"
   ]
  },
  {
   "cell_type": "code",
   "execution_count": 42,
   "metadata": {},
   "outputs": [
    {
     "data": {
      "text/plain": [
       "'Natsuki Takaya : Original Creator, Yoshihide Ibata : Director & Episode Director & Storyboard, Taku Kishimoto : Screenplay & Series Composition, Masaru Yokoyama : Music, Masaru Shindou : Character Design & Chief Animation Director, Baek-Ryun Chae : Photography Director, Youko Koyama : Art Director, Mika Sugawara : Color Design'"
      ]
     },
     "execution_count": 42,
     "metadata": {},
     "output_type": "execute_result"
    }
   ],
   "source": [
    "data_m_mini[\"staff\"][1]"
   ]
  },
  {
   "cell_type": "code",
   "execution_count": 43,
   "metadata": {},
   "outputs": [
    {
     "data": {
      "text/html": [
       "<div>\n",
       "<style scoped>\n",
       "    .dataframe tbody tr th:only-of-type {\n",
       "        vertical-align: middle;\n",
       "    }\n",
       "\n",
       "    .dataframe tbody tr th {\n",
       "        vertical-align: top;\n",
       "    }\n",
       "\n",
       "    .dataframe thead th {\n",
       "        text-align: right;\n",
       "    }\n",
       "</style>\n",
       "<table border=\"1\" class=\"dataframe\">\n",
       "  <thead>\n",
       "    <tr style=\"text-align: right;\">\n",
       "      <th></th>\n",
       "      <th>Rank</th>\n",
       "      <th>Name</th>\n",
       "      <th>Type</th>\n",
       "      <th>Tags</th>\n",
       "      <th>staff</th>\n",
       "    </tr>\n",
       "  </thead>\n",
       "  <tbody>\n",
       "    <tr>\n",
       "      <th>0</th>\n",
       "      <td>1</td>\n",
       "      <td>Demon Slayer: Kimetsu no Yaiba - Entertainment...</td>\n",
       "      <td>TV</td>\n",
       "      <td>Action, Adventure, Fantasy, Shounen, Demons, H...</td>\n",
       "      <td>Koyoharu Gotouge : Original Creator, Haruo Sot...</td>\n",
       "    </tr>\n",
       "    <tr>\n",
       "      <th>1</th>\n",
       "      <td>2</td>\n",
       "      <td>Fruits Basket the Final Season</td>\n",
       "      <td>TV</td>\n",
       "      <td>Drama, Fantasy, Romance, Shoujo, Animal Transf...</td>\n",
       "      <td>Natsuki Takaya : Original Creator, Yoshihide I...</td>\n",
       "    </tr>\n",
       "    <tr>\n",
       "      <th>2</th>\n",
       "      <td>3</td>\n",
       "      <td>Mo Dao Zu Shi 3</td>\n",
       "      <td>Web</td>\n",
       "      <td>Fantasy, Ancient China, Chinese Animation, Cul...</td>\n",
       "      <td>Mo Xiang Tong Xiu : Original Creator, Xiong Ke...</td>\n",
       "    </tr>\n",
       "    <tr>\n",
       "      <th>3</th>\n",
       "      <td>4</td>\n",
       "      <td>Fullmetal Alchemist: Brotherhood</td>\n",
       "      <td>TV</td>\n",
       "      <td>Action, Adventure, Drama, Fantasy, Mystery, Sh...</td>\n",
       "      <td>Hiromu Arakawa : Original Creator, Yasuhiro Ir...</td>\n",
       "    </tr>\n",
       "    <tr>\n",
       "      <th>4</th>\n",
       "      <td>5</td>\n",
       "      <td>Attack on Titan 3rd Season: Part II</td>\n",
       "      <td>TV</td>\n",
       "      <td>Action, Fantasy, Horror, Shounen, Dark Fantasy...</td>\n",
       "      <td>Hajime Isayama : Original Creator, Tetsurou Ar...</td>\n",
       "    </tr>\n",
       "    <tr>\n",
       "      <th>...</th>\n",
       "      <td>...</td>\n",
       "      <td>...</td>\n",
       "      <td>...</td>\n",
       "      <td>...</td>\n",
       "      <td>...</td>\n",
       "    </tr>\n",
       "    <tr>\n",
       "      <th>18484</th>\n",
       "      <td>18485</td>\n",
       "      <td>Tooriame</td>\n",
       "      <td>Movie</td>\n",
       "      <td>Abstract, Shorts</td>\n",
       "      <td>Tomoko Takayama : Director, Juri Ito : Music, ...</td>\n",
       "    </tr>\n",
       "    <tr>\n",
       "      <th>18486</th>\n",
       "      <td>18487</td>\n",
       "      <td>Better back then</td>\n",
       "      <td>Movie</td>\n",
       "      <td>Shorts, Stop Motion Animation, Original Work</td>\n",
       "      <td>Naoaki Shibuta : Director, Chikara Uemizutaru ...</td>\n",
       "    </tr>\n",
       "    <tr>\n",
       "      <th>18487</th>\n",
       "      <td>18488</td>\n",
       "      <td>Make My Day</td>\n",
       "      <td>Web</td>\n",
       "      <td>Horror, Monsters, Original Work</td>\n",
       "      <td>Yasuo Ootagaki : Original Creator, Makoto Kane...</td>\n",
       "    </tr>\n",
       "    <tr>\n",
       "      <th>18488</th>\n",
       "      <td>18489</td>\n",
       "      <td>Shachiku-san wa Youjo Yuurei ni Iyasaretai.</td>\n",
       "      <td>TV</td>\n",
       "      <td>Comedy, Slice of Life, Ghosts, Iyashikei, Non-...</td>\n",
       "      <td>Imari Arita : Original Creator</td>\n",
       "    </tr>\n",
       "    <tr>\n",
       "      <th>18489</th>\n",
       "      <td>18490</td>\n",
       "      <td>Nostalgia</td>\n",
       "      <td>Movie</td>\n",
       "      <td>Drama, No Dialogue, Shorts, Stop Motion Animation</td>\n",
       "      <td>Tomoyasu Murata : Director</td>\n",
       "    </tr>\n",
       "  </tbody>\n",
       "</table>\n",
       "<p>9056 rows × 5 columns</p>\n",
       "</div>"
      ],
      "text/plain": [
       "        Rank                                               Name   Type  \\\n",
       "0          1  Demon Slayer: Kimetsu no Yaiba - Entertainment...     TV   \n",
       "1          2                     Fruits Basket the Final Season     TV   \n",
       "2          3                                    Mo Dao Zu Shi 3    Web   \n",
       "3          4                   Fullmetal Alchemist: Brotherhood     TV   \n",
       "4          5                Attack on Titan 3rd Season: Part II     TV   \n",
       "...      ...                                                ...    ...   \n",
       "18484  18485                                           Tooriame  Movie   \n",
       "18486  18487                                   Better back then  Movie   \n",
       "18487  18488                                        Make My Day    Web   \n",
       "18488  18489        Shachiku-san wa Youjo Yuurei ni Iyasaretai.     TV   \n",
       "18489  18490                                          Nostalgia  Movie   \n",
       "\n",
       "                                                    Tags  \\\n",
       "0      Action, Adventure, Fantasy, Shounen, Demons, H...   \n",
       "1      Drama, Fantasy, Romance, Shoujo, Animal Transf...   \n",
       "2      Fantasy, Ancient China, Chinese Animation, Cul...   \n",
       "3      Action, Adventure, Drama, Fantasy, Mystery, Sh...   \n",
       "4      Action, Fantasy, Horror, Shounen, Dark Fantasy...   \n",
       "...                                                  ...   \n",
       "18484                                   Abstract, Shorts   \n",
       "18486       Shorts, Stop Motion Animation, Original Work   \n",
       "18487                    Horror, Monsters, Original Work   \n",
       "18488  Comedy, Slice of Life, Ghosts, Iyashikei, Non-...   \n",
       "18489  Drama, No Dialogue, Shorts, Stop Motion Animation   \n",
       "\n",
       "                                                   staff  \n",
       "0      Koyoharu Gotouge : Original Creator, Haruo Sot...  \n",
       "1      Natsuki Takaya : Original Creator, Yoshihide I...  \n",
       "2      Mo Xiang Tong Xiu : Original Creator, Xiong Ke...  \n",
       "3      Hiromu Arakawa : Original Creator, Yasuhiro Ir...  \n",
       "4      Hajime Isayama : Original Creator, Tetsurou Ar...  \n",
       "...                                                  ...  \n",
       "18484  Tomoko Takayama : Director, Juri Ito : Music, ...  \n",
       "18486  Naoaki Shibuta : Director, Chikara Uemizutaru ...  \n",
       "18487  Yasuo Ootagaki : Original Creator, Makoto Kane...  \n",
       "18488                     Imari Arita : Original Creator  \n",
       "18489                         Tomoyasu Murata : Director  \n",
       "\n",
       "[9056 rows x 5 columns]"
      ]
     },
     "execution_count": 43,
     "metadata": {},
     "output_type": "execute_result"
    }
   ],
   "source": [
    "data_m_mini"
   ]
  },
  {
   "cell_type": "code",
   "execution_count": 44,
   "metadata": {},
   "outputs": [],
   "source": [
    "data_m_mini.reset_index(inplace = True)"
   ]
  },
  {
   "cell_type": "code",
   "execution_count": 45,
   "metadata": {},
   "outputs": [
    {
     "name": "stdout",
     "output_type": "stream",
     "text": [
      "{'Natsuki Takaya': 'Original Creator', 'Yoshihide Ibata': 'Director & Episode Director & Storyboard', 'Taku Kishimoto': 'Screenplay & Series Composition', 'Masaru Yokoyama': 'Music', 'Masaru Shindou': 'Character Design & Chief Animation Director', 'Baek-Ryun Chae': 'Photography Director', 'Youko Koyama': 'Art Director', 'Mika Sugawara': 'Color Design'}\n"
     ]
    }
   ],
   "source": [
    "try_1 = data_m_mini[\"staff\"][1].split(\",\")\n",
    "try_1 = {k.split(\":\")[0].strip() : k.split(\":\")[1].strip() for k in try_1}\n",
    "print(try_1)"
   ]
  },
  {
   "cell_type": "code",
   "execution_count": 46,
   "metadata": {},
   "outputs": [],
   "source": [
    "for i in range (0,len(data_m_mini[\"staff\"])):\n",
    "    try_1 = data_m_mini[\"staff\"][i].split(\",\")\n",
    "    data_m_mini[\"staff\"][i] = {k.split(\":\")[0].strip() : k.split(\":\")[1].strip() for k in try_1}"
   ]
  },
  {
   "cell_type": "code",
   "execution_count": 47,
   "metadata": {},
   "outputs": [
    {
     "data": {
      "text/plain": [
       "{'Natsuki Takaya': 'Original Creator',\n",
       " 'Yoshihide Ibata': 'Director & Episode Director & Storyboard',\n",
       " 'Taku Kishimoto': 'Screenplay & Series Composition',\n",
       " 'Masaru Yokoyama': 'Music',\n",
       " 'Masaru Shindou': 'Character Design & Chief Animation Director',\n",
       " 'Baek-Ryun Chae': 'Photography Director',\n",
       " 'Youko Koyama': 'Art Director',\n",
       " 'Mika Sugawara': 'Color Design'}"
      ]
     },
     "execution_count": 47,
     "metadata": {},
     "output_type": "execute_result"
    }
   ],
   "source": [
    "data_m_mini[\"staff\"][1]"
   ]
  },
  {
   "cell_type": "code",
   "execution_count": 48,
   "metadata": {},
   "outputs": [
    {
     "data": {
      "text/plain": [
       "dict_keys(['Natsuki Takaya', 'Yoshihide Ibata', 'Taku Kishimoto', 'Masaru Yokoyama', 'Masaru Shindou', 'Baek-Ryun Chae', 'Youko Koyama', 'Mika Sugawara'])"
      ]
     },
     "execution_count": 48,
     "metadata": {},
     "output_type": "execute_result"
    }
   ],
   "source": [
    "data_m_mini[\"staff\"][1].keys()"
   ]
  },
  {
   "cell_type": "code",
   "execution_count": 49,
   "metadata": {},
   "outputs": [
    {
     "data": {
      "text/plain": [
       "dict_values(['Original Creator', 'Director & Episode Director & Storyboard', 'Screenplay & Series Composition', 'Music', 'Character Design & Chief Animation Director', 'Photography Director', 'Art Director', 'Color Design'])"
      ]
     },
     "execution_count": 49,
     "metadata": {},
     "output_type": "execute_result"
    }
   ],
   "source": [
    "data_m_mini[\"staff\"][1].values()"
   ]
  },
  {
   "cell_type": "code",
   "execution_count": 50,
   "metadata": {},
   "outputs": [],
   "source": [
    "for i in range (0,len(data_m_mini[\"staff\"])):\n",
    "    dict = data_m_mini[\"staff\"][i]\n",
    "    data_m_mini[\"staff\"][i] = {value:key for key, value in dict.items()}"
   ]
  },
  {
   "cell_type": "code",
   "execution_count": 51,
   "metadata": {},
   "outputs": [
    {
     "data": {
      "text/html": [
       "<div>\n",
       "<style scoped>\n",
       "    .dataframe tbody tr th:only-of-type {\n",
       "        vertical-align: middle;\n",
       "    }\n",
       "\n",
       "    .dataframe tbody tr th {\n",
       "        vertical-align: top;\n",
       "    }\n",
       "\n",
       "    .dataframe thead th {\n",
       "        text-align: right;\n",
       "    }\n",
       "</style>\n",
       "<table border=\"1\" class=\"dataframe\">\n",
       "  <thead>\n",
       "    <tr style=\"text-align: right;\">\n",
       "      <th></th>\n",
       "      <th>Type</th>\n",
       "    </tr>\n",
       "  </thead>\n",
       "  <tbody>\n",
       "    <tr>\n",
       "      <th>8000</th>\n",
       "      <td>Movie</td>\n",
       "    </tr>\n",
       "    <tr>\n",
       "      <th>8001</th>\n",
       "      <td>TV</td>\n",
       "    </tr>\n",
       "    <tr>\n",
       "      <th>8002</th>\n",
       "      <td>Movie</td>\n",
       "    </tr>\n",
       "    <tr>\n",
       "      <th>8003</th>\n",
       "      <td>TV</td>\n",
       "    </tr>\n",
       "    <tr>\n",
       "      <th>8004</th>\n",
       "      <td>Web</td>\n",
       "    </tr>\n",
       "    <tr>\n",
       "      <th>8005</th>\n",
       "      <td>Web</td>\n",
       "    </tr>\n",
       "    <tr>\n",
       "      <th>8006</th>\n",
       "      <td>TV</td>\n",
       "    </tr>\n",
       "    <tr>\n",
       "      <th>8007</th>\n",
       "      <td>Movie</td>\n",
       "    </tr>\n",
       "    <tr>\n",
       "      <th>8008</th>\n",
       "      <td>TV</td>\n",
       "    </tr>\n",
       "    <tr>\n",
       "      <th>8009</th>\n",
       "      <td>TV</td>\n",
       "    </tr>\n",
       "    <tr>\n",
       "      <th>8010</th>\n",
       "      <td>Movie</td>\n",
       "    </tr>\n",
       "    <tr>\n",
       "      <th>8011</th>\n",
       "      <td>TV</td>\n",
       "    </tr>\n",
       "    <tr>\n",
       "      <th>8012</th>\n",
       "      <td>Other</td>\n",
       "    </tr>\n",
       "    <tr>\n",
       "      <th>8013</th>\n",
       "      <td>Movie</td>\n",
       "    </tr>\n",
       "    <tr>\n",
       "      <th>8014</th>\n",
       "      <td>Movie</td>\n",
       "    </tr>\n",
       "    <tr>\n",
       "      <th>8015</th>\n",
       "      <td>Web</td>\n",
       "    </tr>\n",
       "    <tr>\n",
       "      <th>8016</th>\n",
       "      <td>TV</td>\n",
       "    </tr>\n",
       "    <tr>\n",
       "      <th>8017</th>\n",
       "      <td>Movie</td>\n",
       "    </tr>\n",
       "    <tr>\n",
       "      <th>8018</th>\n",
       "      <td>TV</td>\n",
       "    </tr>\n",
       "    <tr>\n",
       "      <th>8019</th>\n",
       "      <td>TV</td>\n",
       "    </tr>\n",
       "    <tr>\n",
       "      <th>8020</th>\n",
       "      <td>Web</td>\n",
       "    </tr>\n",
       "    <tr>\n",
       "      <th>8021</th>\n",
       "      <td>Web</td>\n",
       "    </tr>\n",
       "    <tr>\n",
       "      <th>8022</th>\n",
       "      <td>Web</td>\n",
       "    </tr>\n",
       "  </tbody>\n",
       "</table>\n",
       "</div>"
      ],
      "text/plain": [
       "       Type\n",
       "8000  Movie\n",
       "8001     TV\n",
       "8002  Movie\n",
       "8003     TV\n",
       "8004    Web\n",
       "8005    Web\n",
       "8006     TV\n",
       "8007  Movie\n",
       "8008     TV\n",
       "8009     TV\n",
       "8010  Movie\n",
       "8011     TV\n",
       "8012  Other\n",
       "8013  Movie\n",
       "8014  Movie\n",
       "8015    Web\n",
       "8016     TV\n",
       "8017  Movie\n",
       "8018     TV\n",
       "8019     TV\n",
       "8020    Web\n",
       "8021    Web\n",
       "8022    Web"
      ]
     },
     "execution_count": 51,
     "metadata": {},
     "output_type": "execute_result"
    }
   ],
   "source": [
    "data_m_mini.iloc[8000:8023,3:4]"
   ]
  },
  {
   "cell_type": "code",
   "execution_count": 52,
   "metadata": {},
   "outputs": [],
   "source": [
    "for i in range (0,len(data_m_mini[\"staff\"])):\n",
    "    data_m_mini[\"staff\"][i] = { key:value for (key,value) in data_m_mini[\"staff\"][i].items() if key  == \"Original Creator\"}"
   ]
  },
  {
   "cell_type": "code",
   "execution_count": 53,
   "metadata": {},
   "outputs": [
    {
     "data": {
      "text/html": [
       "<div>\n",
       "<style scoped>\n",
       "    .dataframe tbody tr th:only-of-type {\n",
       "        vertical-align: middle;\n",
       "    }\n",
       "\n",
       "    .dataframe tbody tr th {\n",
       "        vertical-align: top;\n",
       "    }\n",
       "\n",
       "    .dataframe thead th {\n",
       "        text-align: right;\n",
       "    }\n",
       "</style>\n",
       "<table border=\"1\" class=\"dataframe\">\n",
       "  <thead>\n",
       "    <tr style=\"text-align: right;\">\n",
       "      <th></th>\n",
       "      <th>Type</th>\n",
       "    </tr>\n",
       "  </thead>\n",
       "  <tbody>\n",
       "    <tr>\n",
       "      <th>1</th>\n",
       "      <td>TV</td>\n",
       "    </tr>\n",
       "    <tr>\n",
       "      <th>2</th>\n",
       "      <td>Web</td>\n",
       "    </tr>\n",
       "    <tr>\n",
       "      <th>3</th>\n",
       "      <td>TV</td>\n",
       "    </tr>\n",
       "    <tr>\n",
       "      <th>4</th>\n",
       "      <td>TV</td>\n",
       "    </tr>\n",
       "    <tr>\n",
       "      <th>5</th>\n",
       "      <td>TV</td>\n",
       "    </tr>\n",
       "    <tr>\n",
       "      <th>6</th>\n",
       "      <td>TV</td>\n",
       "    </tr>\n",
       "    <tr>\n",
       "      <th>7</th>\n",
       "      <td>TV</td>\n",
       "    </tr>\n",
       "    <tr>\n",
       "      <th>8</th>\n",
       "      <td>Movie</td>\n",
       "    </tr>\n",
       "    <tr>\n",
       "      <th>9</th>\n",
       "      <td>TV</td>\n",
       "    </tr>\n",
       "    <tr>\n",
       "      <th>10</th>\n",
       "      <td>Movie</td>\n",
       "    </tr>\n",
       "    <tr>\n",
       "      <th>11</th>\n",
       "      <td>TV</td>\n",
       "    </tr>\n",
       "    <tr>\n",
       "      <th>12</th>\n",
       "      <td>TV</td>\n",
       "    </tr>\n",
       "    <tr>\n",
       "      <th>13</th>\n",
       "      <td>TV</td>\n",
       "    </tr>\n",
       "    <tr>\n",
       "      <th>14</th>\n",
       "      <td>Movie</td>\n",
       "    </tr>\n",
       "    <tr>\n",
       "      <th>15</th>\n",
       "      <td>Movie</td>\n",
       "    </tr>\n",
       "    <tr>\n",
       "      <th>16</th>\n",
       "      <td>TV</td>\n",
       "    </tr>\n",
       "    <tr>\n",
       "      <th>17</th>\n",
       "      <td>Web</td>\n",
       "    </tr>\n",
       "    <tr>\n",
       "      <th>18</th>\n",
       "      <td>TV</td>\n",
       "    </tr>\n",
       "    <tr>\n",
       "      <th>19</th>\n",
       "      <td>TV</td>\n",
       "    </tr>\n",
       "    <tr>\n",
       "      <th>20</th>\n",
       "      <td>TV</td>\n",
       "    </tr>\n",
       "    <tr>\n",
       "      <th>21</th>\n",
       "      <td>Web</td>\n",
       "    </tr>\n",
       "    <tr>\n",
       "      <th>22</th>\n",
       "      <td>Movie</td>\n",
       "    </tr>\n",
       "    <tr>\n",
       "      <th>23</th>\n",
       "      <td>Web</td>\n",
       "    </tr>\n",
       "    <tr>\n",
       "      <th>24</th>\n",
       "      <td>TV</td>\n",
       "    </tr>\n",
       "    <tr>\n",
       "      <th>25</th>\n",
       "      <td>TV</td>\n",
       "    </tr>\n",
       "    <tr>\n",
       "      <th>26</th>\n",
       "      <td>TV</td>\n",
       "    </tr>\n",
       "    <tr>\n",
       "      <th>27</th>\n",
       "      <td>TV</td>\n",
       "    </tr>\n",
       "    <tr>\n",
       "      <th>28</th>\n",
       "      <td>Movie</td>\n",
       "    </tr>\n",
       "    <tr>\n",
       "      <th>29</th>\n",
       "      <td>TV</td>\n",
       "    </tr>\n",
       "    <tr>\n",
       "      <th>30</th>\n",
       "      <td>Web</td>\n",
       "    </tr>\n",
       "    <tr>\n",
       "      <th>31</th>\n",
       "      <td>TV</td>\n",
       "    </tr>\n",
       "    <tr>\n",
       "      <th>32</th>\n",
       "      <td>TV</td>\n",
       "    </tr>\n",
       "    <tr>\n",
       "      <th>33</th>\n",
       "      <td>TV</td>\n",
       "    </tr>\n",
       "    <tr>\n",
       "      <th>34</th>\n",
       "      <td>TV</td>\n",
       "    </tr>\n",
       "    <tr>\n",
       "      <th>35</th>\n",
       "      <td>Web</td>\n",
       "    </tr>\n",
       "    <tr>\n",
       "      <th>36</th>\n",
       "      <td>TV</td>\n",
       "    </tr>\n",
       "    <tr>\n",
       "      <th>37</th>\n",
       "      <td>TV</td>\n",
       "    </tr>\n",
       "    <tr>\n",
       "      <th>38</th>\n",
       "      <td>Web</td>\n",
       "    </tr>\n",
       "    <tr>\n",
       "      <th>39</th>\n",
       "      <td>Movie</td>\n",
       "    </tr>\n",
       "  </tbody>\n",
       "</table>\n",
       "</div>"
      ],
      "text/plain": [
       "     Type\n",
       "1      TV\n",
       "2     Web\n",
       "3      TV\n",
       "4      TV\n",
       "5      TV\n",
       "6      TV\n",
       "7      TV\n",
       "8   Movie\n",
       "9      TV\n",
       "10  Movie\n",
       "11     TV\n",
       "12     TV\n",
       "13     TV\n",
       "14  Movie\n",
       "15  Movie\n",
       "16     TV\n",
       "17    Web\n",
       "18     TV\n",
       "19     TV\n",
       "20     TV\n",
       "21    Web\n",
       "22  Movie\n",
       "23    Web\n",
       "24     TV\n",
       "25     TV\n",
       "26     TV\n",
       "27     TV\n",
       "28  Movie\n",
       "29     TV\n",
       "30    Web\n",
       "31     TV\n",
       "32     TV\n",
       "33     TV\n",
       "34     TV\n",
       "35    Web\n",
       "36     TV\n",
       "37     TV\n",
       "38    Web\n",
       "39  Movie"
      ]
     },
     "execution_count": 53,
     "metadata": {},
     "output_type": "execute_result"
    }
   ],
   "source": [
    "data_m_mini.iloc[1:40,3:4]"
   ]
  },
  {
   "cell_type": "code",
   "execution_count": 54,
   "metadata": {},
   "outputs": [],
   "source": [
    "filtering_5 = data_m_mini[data_m_mini[\"staff\"] == {}].index\n",
    "data_m_mini.drop(filtering_5,inplace = True)"
   ]
  },
  {
   "cell_type": "code",
   "execution_count": 55,
   "metadata": {},
   "outputs": [],
   "source": [
    "data_m_mini.reset_index(inplace = True)"
   ]
  },
  {
   "cell_type": "code",
   "execution_count": 56,
   "metadata": {},
   "outputs": [],
   "source": [
    "for i in range (0,len(data_m_mini[\"staff\"])):\n",
    "        data_m_mini[\"staff\"][i] = (data_m_mini[\"staff\"][i])[\"Original Creator\"]"
   ]
  },
  {
   "cell_type": "code",
   "execution_count": 57,
   "metadata": {},
   "outputs": [
    {
     "data": {
      "text/html": [
       "<div>\n",
       "<style scoped>\n",
       "    .dataframe tbody tr th:only-of-type {\n",
       "        vertical-align: middle;\n",
       "    }\n",
       "\n",
       "    .dataframe tbody tr th {\n",
       "        vertical-align: top;\n",
       "    }\n",
       "\n",
       "    .dataframe thead th {\n",
       "        text-align: right;\n",
       "    }\n",
       "</style>\n",
       "<table border=\"1\" class=\"dataframe\">\n",
       "  <thead>\n",
       "    <tr style=\"text-align: right;\">\n",
       "      <th></th>\n",
       "      <th>level_0</th>\n",
       "      <th>index</th>\n",
       "      <th>Rank</th>\n",
       "      <th>Name</th>\n",
       "      <th>Type</th>\n",
       "      <th>Tags</th>\n",
       "      <th>staff</th>\n",
       "    </tr>\n",
       "  </thead>\n",
       "  <tbody>\n",
       "    <tr>\n",
       "      <th>0</th>\n",
       "      <td>0</td>\n",
       "      <td>0</td>\n",
       "      <td>1</td>\n",
       "      <td>Demon Slayer: Kimetsu no Yaiba - Entertainment...</td>\n",
       "      <td>TV</td>\n",
       "      <td>Action, Adventure, Fantasy, Shounen, Demons, H...</td>\n",
       "      <td>Koyoharu Gotouge</td>\n",
       "    </tr>\n",
       "    <tr>\n",
       "      <th>1</th>\n",
       "      <td>1</td>\n",
       "      <td>1</td>\n",
       "      <td>2</td>\n",
       "      <td>Fruits Basket the Final Season</td>\n",
       "      <td>TV</td>\n",
       "      <td>Drama, Fantasy, Romance, Shoujo, Animal Transf...</td>\n",
       "      <td>Natsuki Takaya</td>\n",
       "    </tr>\n",
       "    <tr>\n",
       "      <th>2</th>\n",
       "      <td>2</td>\n",
       "      <td>2</td>\n",
       "      <td>3</td>\n",
       "      <td>Mo Dao Zu Shi 3</td>\n",
       "      <td>Web</td>\n",
       "      <td>Fantasy, Ancient China, Chinese Animation, Cul...</td>\n",
       "      <td>Mo Xiang Tong Xiu</td>\n",
       "    </tr>\n",
       "    <tr>\n",
       "      <th>3</th>\n",
       "      <td>3</td>\n",
       "      <td>3</td>\n",
       "      <td>4</td>\n",
       "      <td>Fullmetal Alchemist: Brotherhood</td>\n",
       "      <td>TV</td>\n",
       "      <td>Action, Adventure, Drama, Fantasy, Mystery, Sh...</td>\n",
       "      <td>Hiromu Arakawa</td>\n",
       "    </tr>\n",
       "    <tr>\n",
       "      <th>4</th>\n",
       "      <td>4</td>\n",
       "      <td>4</td>\n",
       "      <td>5</td>\n",
       "      <td>Attack on Titan 3rd Season: Part II</td>\n",
       "      <td>TV</td>\n",
       "      <td>Action, Fantasy, Horror, Shounen, Dark Fantasy...</td>\n",
       "      <td>Hajime Isayama</td>\n",
       "    </tr>\n",
       "    <tr>\n",
       "      <th>...</th>\n",
       "      <td>...</td>\n",
       "      <td>...</td>\n",
       "      <td>...</td>\n",
       "      <td>...</td>\n",
       "      <td>...</td>\n",
       "      <td>...</td>\n",
       "      <td>...</td>\n",
       "    </tr>\n",
       "    <tr>\n",
       "      <th>3194</th>\n",
       "      <td>9037</td>\n",
       "      <td>18443</td>\n",
       "      <td>18444</td>\n",
       "      <td>The Imaginary</td>\n",
       "      <td>Movie</td>\n",
       "      <td>Based on a Novel</td>\n",
       "      <td>A. F. Harrold</td>\n",
       "    </tr>\n",
       "    <tr>\n",
       "      <th>3195</th>\n",
       "      <td>9049</td>\n",
       "      <td>18481</td>\n",
       "      <td>18482</td>\n",
       "      <td>Goblin Slayer 2</td>\n",
       "      <td>TV</td>\n",
       "      <td>Action, Adventure, Fantasy, Seinen, Dark Fanta...</td>\n",
       "      <td>Kumo Kagyu</td>\n",
       "    </tr>\n",
       "    <tr>\n",
       "      <th>3196</th>\n",
       "      <td>9050</td>\n",
       "      <td>18483</td>\n",
       "      <td>18484</td>\n",
       "      <td>Peleliu: Rakuen no Guernica</td>\n",
       "      <td>Other</td>\n",
       "      <td>Action, Shounen, Island, War, World War 2, Bas...</td>\n",
       "      <td>Masao Hiratsuka</td>\n",
       "    </tr>\n",
       "    <tr>\n",
       "      <th>3197</th>\n",
       "      <td>9053</td>\n",
       "      <td>18487</td>\n",
       "      <td>18488</td>\n",
       "      <td>Make My Day</td>\n",
       "      <td>Web</td>\n",
       "      <td>Horror, Monsters, Original Work</td>\n",
       "      <td>Yasuo Ootagaki</td>\n",
       "    </tr>\n",
       "    <tr>\n",
       "      <th>3198</th>\n",
       "      <td>9054</td>\n",
       "      <td>18488</td>\n",
       "      <td>18489</td>\n",
       "      <td>Shachiku-san wa Youjo Yuurei ni Iyasaretai.</td>\n",
       "      <td>TV</td>\n",
       "      <td>Comedy, Slice of Life, Ghosts, Iyashikei, Non-...</td>\n",
       "      <td>Imari Arita</td>\n",
       "    </tr>\n",
       "  </tbody>\n",
       "</table>\n",
       "<p>3199 rows × 7 columns</p>\n",
       "</div>"
      ],
      "text/plain": [
       "      level_0  index   Rank  \\\n",
       "0           0      0      1   \n",
       "1           1      1      2   \n",
       "2           2      2      3   \n",
       "3           3      3      4   \n",
       "4           4      4      5   \n",
       "...       ...    ...    ...   \n",
       "3194     9037  18443  18444   \n",
       "3195     9049  18481  18482   \n",
       "3196     9050  18483  18484   \n",
       "3197     9053  18487  18488   \n",
       "3198     9054  18488  18489   \n",
       "\n",
       "                                                   Name   Type  \\\n",
       "0     Demon Slayer: Kimetsu no Yaiba - Entertainment...     TV   \n",
       "1                        Fruits Basket the Final Season     TV   \n",
       "2                                       Mo Dao Zu Shi 3    Web   \n",
       "3                      Fullmetal Alchemist: Brotherhood     TV   \n",
       "4                   Attack on Titan 3rd Season: Part II     TV   \n",
       "...                                                 ...    ...   \n",
       "3194                                      The Imaginary  Movie   \n",
       "3195                                    Goblin Slayer 2     TV   \n",
       "3196                        Peleliu: Rakuen no Guernica  Other   \n",
       "3197                                        Make My Day    Web   \n",
       "3198        Shachiku-san wa Youjo Yuurei ni Iyasaretai.     TV   \n",
       "\n",
       "                                                   Tags              staff  \n",
       "0     Action, Adventure, Fantasy, Shounen, Demons, H...   Koyoharu Gotouge  \n",
       "1     Drama, Fantasy, Romance, Shoujo, Animal Transf...     Natsuki Takaya  \n",
       "2     Fantasy, Ancient China, Chinese Animation, Cul...  Mo Xiang Tong Xiu  \n",
       "3     Action, Adventure, Drama, Fantasy, Mystery, Sh...     Hiromu Arakawa  \n",
       "4     Action, Fantasy, Horror, Shounen, Dark Fantasy...     Hajime Isayama  \n",
       "...                                                 ...                ...  \n",
       "3194                                   Based on a Novel      A. F. Harrold  \n",
       "3195  Action, Adventure, Fantasy, Seinen, Dark Fanta...         Kumo Kagyu  \n",
       "3196  Action, Shounen, Island, War, World War 2, Bas...    Masao Hiratsuka  \n",
       "3197                    Horror, Monsters, Original Work     Yasuo Ootagaki  \n",
       "3198  Comedy, Slice of Life, Ghosts, Iyashikei, Non-...        Imari Arita  \n",
       "\n",
       "[3199 rows x 7 columns]"
      ]
     },
     "execution_count": 57,
     "metadata": {},
     "output_type": "execute_result"
    }
   ],
   "source": [
    "data_m_mini"
   ]
  },
  {
   "cell_type": "code",
   "execution_count": 58,
   "metadata": {},
   "outputs": [],
   "source": [
    "data_m_mini[\"Tags\"] = data_m_mini[\"Tags\"] +\", \"+ data_m_mini[\"staff\"]"
   ]
  },
  {
   "cell_type": "code",
   "execution_count": 59,
   "metadata": {},
   "outputs": [],
   "source": [
    "data_m_mini.drop(labels = \"staff\",axis = 1, inplace= True)"
   ]
  },
  {
   "cell_type": "code",
   "execution_count": 60,
   "metadata": {},
   "outputs": [],
   "source": [
    "data_m.drop(\"staff\",axis = 1, inplace = True)"
   ]
  },
  {
   "cell_type": "code",
   "execution_count": 61,
   "metadata": {},
   "outputs": [
    {
     "data": {
      "text/plain": [
       "'Action, Adventure, Fantasy, Shounen, Demons, Historical, Martial Arts, Orphans, Siblings, Swordplay, Based on a Manga, Explicit Violence'"
      ]
     },
     "execution_count": 61,
     "metadata": {},
     "output_type": "execute_result"
    }
   ],
   "source": [
    "data_m[\"Tags\"][0]"
   ]
  },
  {
   "cell_type": "code",
   "execution_count": 62,
   "metadata": {},
   "outputs": [
    {
     "data": {
      "text/plain": [
       "'Action, Adventure, Fantasy, Shounen, Demons, Historical, Martial Arts, Orphans, Siblings, Swordplay, Based on a Manga, Explicit Violence, Koyoharu Gotouge'"
      ]
     },
     "execution_count": 62,
     "metadata": {},
     "output_type": "execute_result"
    }
   ],
   "source": [
    "data_m_mini[\"Tags\"][0]"
   ]
  },
  {
   "cell_type": "code",
   "execution_count": 63,
   "metadata": {},
   "outputs": [
    {
     "data": {
      "text/html": [
       "<div>\n",
       "<style scoped>\n",
       "    .dataframe tbody tr th:only-of-type {\n",
       "        vertical-align: middle;\n",
       "    }\n",
       "\n",
       "    .dataframe tbody tr th {\n",
       "        vertical-align: top;\n",
       "    }\n",
       "\n",
       "    .dataframe thead th {\n",
       "        text-align: right;\n",
       "    }\n",
       "</style>\n",
       "<table border=\"1\" class=\"dataframe\">\n",
       "  <thead>\n",
       "    <tr style=\"text-align: right;\">\n",
       "      <th></th>\n",
       "      <th>Rank</th>\n",
       "      <th>Name</th>\n",
       "      <th>Type</th>\n",
       "      <th>Tags</th>\n",
       "    </tr>\n",
       "  </thead>\n",
       "  <tbody>\n",
       "    <tr>\n",
       "      <th>0</th>\n",
       "      <td>1</td>\n",
       "      <td>Demon Slayer: Kimetsu no Yaiba - Entertainment...</td>\n",
       "      <td>TV</td>\n",
       "      <td>Action, Adventure, Fantasy, Shounen, Demons, H...</td>\n",
       "    </tr>\n",
       "    <tr>\n",
       "      <th>1</th>\n",
       "      <td>2</td>\n",
       "      <td>Fruits Basket the Final Season</td>\n",
       "      <td>TV</td>\n",
       "      <td>Drama, Fantasy, Romance, Shoujo, Animal Transf...</td>\n",
       "    </tr>\n",
       "    <tr>\n",
       "      <th>2</th>\n",
       "      <td>3</td>\n",
       "      <td>Mo Dao Zu Shi 3</td>\n",
       "      <td>Web</td>\n",
       "      <td>Fantasy, Ancient China, Chinese Animation, Cul...</td>\n",
       "    </tr>\n",
       "    <tr>\n",
       "      <th>3</th>\n",
       "      <td>4</td>\n",
       "      <td>Fullmetal Alchemist: Brotherhood</td>\n",
       "      <td>TV</td>\n",
       "      <td>Action, Adventure, Drama, Fantasy, Mystery, Sh...</td>\n",
       "    </tr>\n",
       "    <tr>\n",
       "      <th>4</th>\n",
       "      <td>5</td>\n",
       "      <td>Attack on Titan 3rd Season: Part II</td>\n",
       "      <td>TV</td>\n",
       "      <td>Action, Fantasy, Horror, Shounen, Dark Fantasy...</td>\n",
       "    </tr>\n",
       "    <tr>\n",
       "      <th>...</th>\n",
       "      <td>...</td>\n",
       "      <td>...</td>\n",
       "      <td>...</td>\n",
       "      <td>...</td>\n",
       "    </tr>\n",
       "    <tr>\n",
       "      <th>13351</th>\n",
       "      <td>18491</td>\n",
       "      <td>Qin Shi Mingyue: Canghai Hengliu Xiaomeng Spec...</td>\n",
       "      <td>Web</td>\n",
       "      <td>Action, Ancient China, Chinese Animation, Hist...</td>\n",
       "    </tr>\n",
       "    <tr>\n",
       "      <th>13352</th>\n",
       "      <td>18492</td>\n",
       "      <td>Yi Tang Juchang: Sanguo Yanyi</td>\n",
       "      <td>TV</td>\n",
       "      <td>Chinese Animation</td>\n",
       "    </tr>\n",
       "    <tr>\n",
       "      <th>13353</th>\n",
       "      <td>18493</td>\n",
       "      <td>Fenghuang Ji Xiang Yu Qingming Shanghe Tu</td>\n",
       "      <td>TV</td>\n",
       "      <td>Chinese Animation, Family Friendly, Short Epis...</td>\n",
       "    </tr>\n",
       "    <tr>\n",
       "      <th>13354</th>\n",
       "      <td>18494</td>\n",
       "      <td>Chengshi Jiyi Wo Men de Jieri</td>\n",
       "      <td>TV</td>\n",
       "      <td>Chinese Animation, Family Friendly, Short Epis...</td>\n",
       "    </tr>\n",
       "    <tr>\n",
       "      <th>13355</th>\n",
       "      <td>18495</td>\n",
       "      <td>Heisei Inu Monogatari Bow: Genshi Inu Monogata...</td>\n",
       "      <td>Movie</td>\n",
       "      <td>Comedy, Slice of Life, Dogs</td>\n",
       "    </tr>\n",
       "  </tbody>\n",
       "</table>\n",
       "<p>13356 rows × 4 columns</p>\n",
       "</div>"
      ],
      "text/plain": [
       "        Rank                                               Name   Type  \\\n",
       "0          1  Demon Slayer: Kimetsu no Yaiba - Entertainment...     TV   \n",
       "1          2                     Fruits Basket the Final Season     TV   \n",
       "2          3                                    Mo Dao Zu Shi 3    Web   \n",
       "3          4                   Fullmetal Alchemist: Brotherhood     TV   \n",
       "4          5                Attack on Titan 3rd Season: Part II     TV   \n",
       "...      ...                                                ...    ...   \n",
       "13351  18491  Qin Shi Mingyue: Canghai Hengliu Xiaomeng Spec...    Web   \n",
       "13352  18492                      Yi Tang Juchang: Sanguo Yanyi     TV   \n",
       "13353  18493          Fenghuang Ji Xiang Yu Qingming Shanghe Tu     TV   \n",
       "13354  18494                      Chengshi Jiyi Wo Men de Jieri     TV   \n",
       "13355  18495  Heisei Inu Monogatari Bow: Genshi Inu Monogata...  Movie   \n",
       "\n",
       "                                                    Tags  \n",
       "0      Action, Adventure, Fantasy, Shounen, Demons, H...  \n",
       "1      Drama, Fantasy, Romance, Shoujo, Animal Transf...  \n",
       "2      Fantasy, Ancient China, Chinese Animation, Cul...  \n",
       "3      Action, Adventure, Drama, Fantasy, Mystery, Sh...  \n",
       "4      Action, Fantasy, Horror, Shounen, Dark Fantasy...  \n",
       "...                                                  ...  \n",
       "13351  Action, Ancient China, Chinese Animation, Hist...  \n",
       "13352                                  Chinese Animation  \n",
       "13353  Chinese Animation, Family Friendly, Short Epis...  \n",
       "13354  Chinese Animation, Family Friendly, Short Epis...  \n",
       "13355                        Comedy, Slice of Life, Dogs  \n",
       "\n",
       "[13356 rows x 4 columns]"
      ]
     },
     "execution_count": 63,
     "metadata": {},
     "output_type": "execute_result"
    }
   ],
   "source": [
    "data_m.set_index(['Rank','Name'], inplace=True)\n",
    "data_m.update(data_m_mini.set_index(['Rank','Name']))\n",
    "data_m.reset_index(inplace=True)\n",
    "data_m"
   ]
  },
  {
   "cell_type": "code",
   "execution_count": 64,
   "metadata": {},
   "outputs": [],
   "source": [
    "for i in range(0,len(data_m[\"Tags\"])):\n",
    "    data_m[\"Tags\"][i] = data_m[\"Tags\"][i].replace(\" \",\"\")"
   ]
  },
  {
   "cell_type": "code",
   "execution_count": 65,
   "metadata": {},
   "outputs": [],
   "source": [
    "for i in range(0,len(data_m[\"Tags\"])):\n",
    "    data_m[\"Tags\"][i] = data_m[\"Tags\"][i].replace(\",\",\" \")"
   ]
  },
  {
   "cell_type": "code",
   "execution_count": 66,
   "metadata": {},
   "outputs": [],
   "source": [
    "data_m[\"Tags\"] = data_m[\"Tags\"].apply(lambda x: x.lower())"
   ]
  },
  {
   "cell_type": "code",
   "execution_count": 67,
   "metadata": {},
   "outputs": [],
   "source": [
    "data = data_m.copy()"
   ]
  },
  {
   "cell_type": "code",
   "execution_count": 68,
   "metadata": {},
   "outputs": [
    {
     "data": {
      "text/html": [
       "<div>\n",
       "<style scoped>\n",
       "    .dataframe tbody tr th:only-of-type {\n",
       "        vertical-align: middle;\n",
       "    }\n",
       "\n",
       "    .dataframe tbody tr th {\n",
       "        vertical-align: top;\n",
       "    }\n",
       "\n",
       "    .dataframe thead th {\n",
       "        text-align: right;\n",
       "    }\n",
       "</style>\n",
       "<table border=\"1\" class=\"dataframe\">\n",
       "  <thead>\n",
       "    <tr style=\"text-align: right;\">\n",
       "      <th></th>\n",
       "      <th>Rank</th>\n",
       "      <th>Name</th>\n",
       "      <th>Type</th>\n",
       "      <th>Tags</th>\n",
       "    </tr>\n",
       "  </thead>\n",
       "  <tbody>\n",
       "    <tr>\n",
       "      <th>0</th>\n",
       "      <td>1</td>\n",
       "      <td>Demon Slayer: Kimetsu no Yaiba - Entertainment...</td>\n",
       "      <td>TV</td>\n",
       "      <td>action adventure fantasy shounen demons histor...</td>\n",
       "    </tr>\n",
       "    <tr>\n",
       "      <th>1</th>\n",
       "      <td>2</td>\n",
       "      <td>Fruits Basket the Final Season</td>\n",
       "      <td>TV</td>\n",
       "      <td>drama fantasy romance shoujo animaltransformat...</td>\n",
       "    </tr>\n",
       "    <tr>\n",
       "      <th>2</th>\n",
       "      <td>3</td>\n",
       "      <td>Mo Dao Zu Shi 3</td>\n",
       "      <td>Web</td>\n",
       "      <td>fantasy ancientchina chineseanimation cultivat...</td>\n",
       "    </tr>\n",
       "    <tr>\n",
       "      <th>3</th>\n",
       "      <td>4</td>\n",
       "      <td>Fullmetal Alchemist: Brotherhood</td>\n",
       "      <td>TV</td>\n",
       "      <td>action adventure drama fantasy mystery shounen...</td>\n",
       "    </tr>\n",
       "    <tr>\n",
       "      <th>4</th>\n",
       "      <td>5</td>\n",
       "      <td>Attack on Titan 3rd Season: Part II</td>\n",
       "      <td>TV</td>\n",
       "      <td>action fantasy horror shounen darkfantasy isol...</td>\n",
       "    </tr>\n",
       "    <tr>\n",
       "      <th>...</th>\n",
       "      <td>...</td>\n",
       "      <td>...</td>\n",
       "      <td>...</td>\n",
       "      <td>...</td>\n",
       "    </tr>\n",
       "    <tr>\n",
       "      <th>13351</th>\n",
       "      <td>18491</td>\n",
       "      <td>Qin Shi Mingyue: Canghai Hengliu Xiaomeng Spec...</td>\n",
       "      <td>Web</td>\n",
       "      <td>action ancientchina chineseanimation historica...</td>\n",
       "    </tr>\n",
       "    <tr>\n",
       "      <th>13352</th>\n",
       "      <td>18492</td>\n",
       "      <td>Yi Tang Juchang: Sanguo Yanyi</td>\n",
       "      <td>TV</td>\n",
       "      <td>chineseanimation</td>\n",
       "    </tr>\n",
       "    <tr>\n",
       "      <th>13353</th>\n",
       "      <td>18493</td>\n",
       "      <td>Fenghuang Ji Xiang Yu Qingming Shanghe Tu</td>\n",
       "      <td>TV</td>\n",
       "      <td>chineseanimation familyfriendly shortepisodes</td>\n",
       "    </tr>\n",
       "    <tr>\n",
       "      <th>13354</th>\n",
       "      <td>18494</td>\n",
       "      <td>Chengshi Jiyi Wo Men de Jieri</td>\n",
       "      <td>TV</td>\n",
       "      <td>chineseanimation familyfriendly shortepisodes</td>\n",
       "    </tr>\n",
       "    <tr>\n",
       "      <th>13355</th>\n",
       "      <td>18495</td>\n",
       "      <td>Heisei Inu Monogatari Bow: Genshi Inu Monogata...</td>\n",
       "      <td>Movie</td>\n",
       "      <td>comedy sliceoflife dogs</td>\n",
       "    </tr>\n",
       "  </tbody>\n",
       "</table>\n",
       "<p>13356 rows × 4 columns</p>\n",
       "</div>"
      ],
      "text/plain": [
       "        Rank                                               Name   Type  \\\n",
       "0          1  Demon Slayer: Kimetsu no Yaiba - Entertainment...     TV   \n",
       "1          2                     Fruits Basket the Final Season     TV   \n",
       "2          3                                    Mo Dao Zu Shi 3    Web   \n",
       "3          4                   Fullmetal Alchemist: Brotherhood     TV   \n",
       "4          5                Attack on Titan 3rd Season: Part II     TV   \n",
       "...      ...                                                ...    ...   \n",
       "13351  18491  Qin Shi Mingyue: Canghai Hengliu Xiaomeng Spec...    Web   \n",
       "13352  18492                      Yi Tang Juchang: Sanguo Yanyi     TV   \n",
       "13353  18493          Fenghuang Ji Xiang Yu Qingming Shanghe Tu     TV   \n",
       "13354  18494                      Chengshi Jiyi Wo Men de Jieri     TV   \n",
       "13355  18495  Heisei Inu Monogatari Bow: Genshi Inu Monogata...  Movie   \n",
       "\n",
       "                                                    Tags  \n",
       "0      action adventure fantasy shounen demons histor...  \n",
       "1      drama fantasy romance shoujo animaltransformat...  \n",
       "2      fantasy ancientchina chineseanimation cultivat...  \n",
       "3      action adventure drama fantasy mystery shounen...  \n",
       "4      action fantasy horror shounen darkfantasy isol...  \n",
       "...                                                  ...  \n",
       "13351  action ancientchina chineseanimation historica...  \n",
       "13352                                   chineseanimation  \n",
       "13353      chineseanimation familyfriendly shortepisodes  \n",
       "13354      chineseanimation familyfriendly shortepisodes  \n",
       "13355                            comedy sliceoflife dogs  \n",
       "\n",
       "[13356 rows x 4 columns]"
      ]
     },
     "execution_count": 68,
     "metadata": {},
     "output_type": "execute_result"
    }
   ],
   "source": [
    "data"
   ]
  },
  {
   "cell_type": "code",
   "execution_count": 69,
   "metadata": {},
   "outputs": [],
   "source": [
    "# recommendation system"
   ]
  },
  {
   "cell_type": "code",
   "execution_count": 70,
   "metadata": {},
   "outputs": [],
   "source": [
    "from sklearn.feature_extraction.text import CountVectorizer\n",
    "cv = CountVectorizer(max_features = 13500,stop_words=\"english\")"
   ]
  },
  {
   "cell_type": "code",
   "execution_count": 71,
   "metadata": {},
   "outputs": [
    {
     "data": {
      "text/plain": [
       "array([[0, 0, 0, ..., 0, 0, 0],\n",
       "       [0, 0, 0, ..., 0, 0, 0],\n",
       "       [0, 0, 0, ..., 0, 0, 0],\n",
       "       ...,\n",
       "       [0, 0, 0, ..., 0, 0, 0],\n",
       "       [0, 0, 0, ..., 0, 0, 0],\n",
       "       [0, 0, 0, ..., 0, 0, 0]])"
      ]
     },
     "execution_count": 71,
     "metadata": {},
     "output_type": "execute_result"
    }
   ],
   "source": [
    "cv.fit_transform(data[\"Tags\"]).toarray()"
   ]
  },
  {
   "cell_type": "code",
   "execution_count": 72,
   "metadata": {},
   "outputs": [
    {
     "data": {
      "text/plain": [
       "(13356, 1931)"
      ]
     },
     "execution_count": 72,
     "metadata": {},
     "output_type": "execute_result"
    }
   ],
   "source": [
    "cv.fit_transform(data[\"Tags\"]).toarray().shape"
   ]
  },
  {
   "cell_type": "code",
   "execution_count": 73,
   "metadata": {},
   "outputs": [],
   "source": [
    "vectors = cv.fit_transform(data[\"Tags\"]).toarray()"
   ]
  },
  {
   "cell_type": "code",
   "execution_count": 75,
   "metadata": {},
   "outputs": [
    {
     "data": {
      "text/plain": [
       "array(['15thcentury', '16thcentury', '17thcentury', '18thcentury',\n",
       "       '19thcentury', 'abiumeda', 'abstract', 'acomomota', 'acting',\n",
       "       'action'], dtype=object)"
      ]
     },
     "execution_count": 75,
     "metadata": {},
     "output_type": "execute_result"
    }
   ],
   "source": [
    "cv.get_feature_names_out()[0:10]"
   ]
  },
  {
   "cell_type": "code",
   "execution_count": 76,
   "metadata": {},
   "outputs": [
    {
     "data": {
      "text/plain": [
       "array([[1.        , 0.19611614, 0.10482848, ..., 0.        , 0.        ,\n",
       "        0.        ],\n",
       "       [0.19611614, 1.        , 0.08908708, ..., 0.        , 0.        ,\n",
       "        0.        ],\n",
       "       [0.10482848, 0.08908708, 1.        , ..., 0.21821789, 0.21821789,\n",
       "        0.        ],\n",
       "       ...,\n",
       "       [0.        , 0.        , 0.21821789, ..., 1.        , 1.        ,\n",
       "        0.        ],\n",
       "       [0.        , 0.        , 0.21821789, ..., 1.        , 1.        ,\n",
       "        0.        ],\n",
       "       [0.        , 0.        , 0.        , ..., 0.        , 0.        ,\n",
       "        1.        ]])"
      ]
     },
     "execution_count": 76,
     "metadata": {},
     "output_type": "execute_result"
    }
   ],
   "source": [
    "from sklearn.metrics.pairwise import cosine_similarity\n",
    "similarity = cosine_similarity(vectors)\n",
    "similarity"
   ]
  },
  {
   "cell_type": "code",
   "execution_count": 80,
   "metadata": {},
   "outputs": [],
   "source": [
    "def Rec(user_input):\n",
    "    Index_of_anime = data[data[\"Name\"] == user_input].index[0]\n",
    "    Similarity_score = similarity[Index_of_anime]\n",
    "    Sorted_scores = sorted(list(enumerate(Similarity_score)),reverse = True,key= lambda x: x[1]) [1:6]\n",
    "    Recommended_Anime = []\n",
    "    \n",
    "    for i in Sorted_scores:\n",
    "        Recommended_Anime.append(data.iloc[i[0]].Name)\n",
    "    return Recommended_Anime"
   ]
  },
  {
   "cell_type": "code",
   "execution_count": 86,
   "metadata": {},
   "outputs": [
    {
     "data": {
      "text/plain": [
       "['Whistle!',\n",
       " 'The Knight in the Area',\n",
       " 'Hungry Heart: Wild Striker',\n",
       " 'Captain Tsubasa J',\n",
       " 'Captain Tsubasa: Ayaushi! Zen Nihon Jr.']"
      ]
     },
     "execution_count": 86,
     "metadata": {},
     "output_type": "execute_result"
    }
   ],
   "source": [
    "Rec(\"Blue Lock\")"
   ]
  },
  {
   "cell_type": "code",
   "execution_count": 87,
   "metadata": {},
   "outputs": [
    {
     "data": {
      "text/plain": [
       "['Naruto Shippuden',\n",
       " 'Naruto Shippuden Movie 3: The Will of Fire',\n",
       " 'Naruto Shippuden Movie 1',\n",
       " 'Naruto Shippuden Movie 2: Bonds',\n",
       " 'Naruto Movie 3: Guardians of the Crescent Moon Kingdom']"
      ]
     },
     "execution_count": 87,
     "metadata": {},
     "output_type": "execute_result"
    }
   ],
   "source": [
    "Rec(\"Naruto\")"
   ]
  },
  {
   "cell_type": "code",
   "execution_count": 88,
   "metadata": {},
   "outputs": [
    {
     "data": {
      "text/plain": [
       "['Jujutsu Kaisen 0',\n",
       " 'Ga-Rei-Zero',\n",
       " \"Hell's Paradise: Jigokuraku PV\",\n",
       " 'Corpse Princess: Kuro',\n",
       " \"JoJo's Bizarre Adventure: Phantom Blood\"]"
      ]
     },
     "execution_count": 88,
     "metadata": {},
     "output_type": "execute_result"
    }
   ],
   "source": [
    "Rec(\"Jujutsu Kaisen\")"
   ]
  },
  {
   "cell_type": "code",
   "execution_count": 89,
   "metadata": {},
   "outputs": [
    {
     "data": {
      "text/plain": [
       "[\"Hell's Paradise: Jigokuraku PV\",\n",
       " 'Yozakura Quartet: Hana no Uta',\n",
       " 'Yu Yu Hakusho: The Movie',\n",
       " 'Barom One',\n",
       " \"JoJo's Bizarre Adventure: Stone Ocean\"]"
      ]
     },
     "execution_count": 89,
     "metadata": {},
     "output_type": "execute_result"
    }
   ],
   "source": [
    "Rec(\"JoJo's Bizarre Adventure: Phantom Blood\")"
   ]
  },
  {
   "cell_type": "code",
   "execution_count": 90,
   "metadata": {},
   "outputs": [],
   "source": [
    "import streamlit as st"
   ]
  },
  {
   "cell_type": "code",
   "execution_count": 91,
   "metadata": {},
   "outputs": [
    {
     "name": "stderr",
     "output_type": "stream",
     "text": [
      "2023-03-25 15:01:00.746 \n",
      "  \u001b[33m\u001b[1mWarning:\u001b[0m to view this Streamlit app on a browser, run it with the following\n",
      "  command:\n",
      "\n",
      "    streamlit run /Library/Frameworks/Python.framework/Versions/3.10/lib/python3.10/site-packages/ipykernel_launcher.py [ARGUMENTS]\n"
     ]
    },
    {
     "data": {
      "text/plain": [
       "DeltaGenerator(_root_container=0, _provided_cursor=None, _parent=None, _block_type=None, _form_data=None)"
      ]
     },
     "execution_count": 91,
     "metadata": {},
     "output_type": "execute_result"
    }
   ],
   "source": [
    "st.title('Anime Recommender')"
   ]
  },
  {
   "cell_type": "code",
   "execution_count": 103,
   "metadata": {},
   "outputs": [],
   "source": [
    "anime_id = st.selectbox('Select an anime:', data['Name'].values)"
   ]
  },
  {
   "cell_type": "code",
   "execution_count": 104,
   "metadata": {},
   "outputs": [],
   "source": [
    "similar_anime = Rec(anime_id)"
   ]
  },
  {
   "cell_type": "code",
   "execution_count": 105,
   "metadata": {},
   "outputs": [
    {
     "data": {
      "text/plain": [
       "DeltaGenerator(_root_container=0, _provided_cursor=None, _parent=None, _block_type=None, _form_data=None)"
      ]
     },
     "execution_count": 105,
     "metadata": {},
     "output_type": "execute_result"
    }
   ],
   "source": [
    "st.table(similar_anime)"
   ]
  },
  {
   "cell_type": "code",
   "execution_count": null,
   "metadata": {},
   "outputs": [],
   "source": []
  },
  {
   "cell_type": "code",
   "execution_count": null,
   "metadata": {},
   "outputs": [],
   "source": []
  }
 ],
 "metadata": {
  "kernelspec": {
   "display_name": "Python 3.10.6 64-bit",
   "language": "python",
   "name": "python3"
  },
  "language_info": {
   "codemirror_mode": {
    "name": "ipython",
    "version": 3
   },
   "file_extension": ".py",
   "mimetype": "text/x-python",
   "name": "python",
   "nbconvert_exporter": "python",
   "pygments_lexer": "ipython3",
   "version": "3.10.6"
  },
  "orig_nbformat": 4,
  "vscode": {
   "interpreter": {
    "hash": "aee8b7b246df8f9039afb4144a1f6fd8d2ca17a180786b69acc140d282b71a49"
   }
  }
 },
 "nbformat": 4,
 "nbformat_minor": 2
}
